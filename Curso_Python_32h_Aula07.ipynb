{
  "nbformat": 4,
  "nbformat_minor": 0,
  "metadata": {
    "colab": {
      "name": "Curso_Python_32h_Aula07.ipynb",
      "provenance": [],
      "collapsed_sections": [],
      "authorship_tag": "ABX9TyM75UUYWYrdsubi2eJQQZRr",
      "include_colab_link": true
    },
    "kernelspec": {
      "name": "python3",
      "display_name": "Python 3"
    },
    "language_info": {
      "name": "python"
    }
  },
  "cells": [
    {
      "cell_type": "markdown",
      "metadata": {
        "id": "view-in-github",
        "colab_type": "text"
      },
      "source": [
        "<a href=\"https://colab.research.google.com/github/fernandonakagawa/Curso_Python_32h/blob/main/Curso_Python_32h_Aula07.ipynb\" target=\"_parent\"><img src=\"https://colab.research.google.com/assets/colab-badge.svg\" alt=\"Open In Colab\"/></a>"
      ]
    },
    {
      "cell_type": "markdown",
      "source": [
        "#Desafio 06"
      ],
      "metadata": {
        "id": "mi_bf-r-IzPh"
      }
    },
    {
      "cell_type": "code",
      "execution_count": 9,
      "metadata": {
        "id": "vcu5xV97F8pu",
        "colab": {
          "base_uri": "https://localhost:8080/"
        },
        "outputId": "4860acc2-d66c-4e73-8615-5d66251cf867"
      },
      "outputs": [
        {
          "output_type": "stream",
          "name": "stdout",
          "text": [
            "Tv da Sala\n",
            "Tv do Quarto\n"
          ]
        }
      ],
      "source": [
        "\"\"\"Crie uma classe Televisao e uma classe ControleRemoto que pode\n",
        "controlar o volume e trocar os canais da televisão. O controle de\n",
        "volume permite: aumentar ou diminuir a potência do volume de som em\n",
        "uma unidade de cada vez; aumentar e diminuir o número do canal em uma\n",
        "unidade; trocar para um canal indicado; consultar o valor do volume\n",
        "de som e o canal selecionado.\"\"\"\n",
        "class Televisao:\n",
        "  def __init__(self, nome):\n",
        "    self.nome = nome\n",
        "    self.volume = 0\n",
        "    self.canal = 1\n",
        "  def __str__(self):\n",
        "    return self.nome\n",
        "\n",
        "  def mudar_volume(self, quantidade):\n",
        "    self.volume += quantidade\n",
        "    if self.volume < 0: self.volume = 0\n",
        "    if self.volume > 10: self.volume = 10\n",
        "    self.mostrar_volume()\n",
        "\n",
        "  def mostrar_volume(self):\n",
        "    texto = f\"{self.nome} Volume: \"\n",
        "    for i in range(self.volume):\n",
        "      texto += \"|\"\n",
        "    print(texto)\n",
        "\n",
        "  def mudar_canal(self, quantidade):\n",
        "    self.trocar_canal(self.canal + quantidade)\n",
        "\n",
        "  def trocar_canal(self, canal):\n",
        "    self.canal = canal\n",
        "    if self.canal < 0: self.canal = 0\n",
        "    if self.canal > 99: self.canal = 99\n",
        "    self.mostrar_canal()\n",
        "\n",
        "  def mostrar_canal(self):\n",
        "    print(f\"{self.nome} Canal:\", self.canal)\n",
        "\n",
        "t1 = Televisao(\"Tv da Sala\")\n",
        "print(t1)\n",
        "t2 = Televisao(\"Tv do Quarto\")\n",
        "print(t2)"
      ]
    },
    {
      "cell_type": "code",
      "source": [
        "class ControleRemoto:\n",
        "  def __init__(self, nome):\n",
        "    self.nome = nome\n",
        "  def __str__(self):\n",
        "    return self.nome\n",
        "  def aumentar_volume(self, tv):\n",
        "    tv.mudar_volume(1)\n",
        "  def diminuir_volume(self, tv):\n",
        "    tv.mudar_volume(-1)\n",
        "  def aumentar_canal(self, tv):\n",
        "    if type(tv) == Televisao:\n",
        "      tv.mudar_canal(1)\n",
        "    else: print(\"tv deve ser instância da classe Televisão\")\n",
        "  def diminuir_canal(self, tv):\n",
        "    tv.mudar_canal(-1)\n",
        "  def trocar_canal(self, tv, canal):\n",
        "    tv.trocar_canal(canal)\n",
        "\n",
        "c = ControleRemoto(\"Controle Remoto Universal\")\n",
        "print(c)"
      ],
      "metadata": {
        "colab": {
          "base_uri": "https://localhost:8080/"
        },
        "id": "0Kp2J0nBKIpt",
        "outputId": "478b2541-dc3b-4e86-8024-3f1ba64b5e06"
      },
      "execution_count": 24,
      "outputs": [
        {
          "output_type": "stream",
          "name": "stdout",
          "text": [
            "Controle Remoto Universal\n"
          ]
        }
      ]
    },
    {
      "cell_type": "code",
      "source": [
        "c.aumentar_volume(t1)\n",
        "c.aumentar_volume(t1)\n",
        "c.aumentar_volume(t1)\n",
        "c.aumentar_volume(t1)\n",
        "c.aumentar_volume(t1)"
      ],
      "metadata": {
        "colab": {
          "base_uri": "https://localhost:8080/"
        },
        "id": "enjVUdrcNIkO",
        "outputId": "1470201b-191d-4bc0-d8c3-4722f0784c6d"
      },
      "execution_count": 12,
      "outputs": [
        {
          "output_type": "stream",
          "name": "stdout",
          "text": [
            "Tv da Sala Volume: ||\n",
            "Tv da Sala Volume: |||\n",
            "Tv da Sala Volume: ||||\n",
            "Tv da Sala Volume: |||||\n",
            "Tv da Sala Volume: ||||||\n"
          ]
        }
      ]
    },
    {
      "cell_type": "code",
      "source": [
        "c.trocar_canal(t2, 10)\n",
        "c.trocar_canal(t1, 11)\n",
        "c.aumentar_volume(t2)\n",
        "c.diminuir_volume(t1)"
      ],
      "metadata": {
        "colab": {
          "base_uri": "https://localhost:8080/"
        },
        "id": "V_0IQV2tNQEQ",
        "outputId": "1bef81e1-1082-4c91-986a-fd0af7c59bfb"
      },
      "execution_count": 17,
      "outputs": [
        {
          "output_type": "stream",
          "name": "stdout",
          "text": [
            "Tv do Quarto Canal: 10\n",
            "Tv da Sala Canal: 11\n",
            "Tv do Quarto Volume: |||\n",
            "Tv da Sala Volume: |||||\n"
          ]
        }
      ]
    },
    {
      "cell_type": "code",
      "source": [
        "import time\n",
        "for i in range(10):\n",
        "  time.sleep(1)\n",
        "  #c.aumentar_canal(t1)\n",
        "  c.aumentar_volume(t2)"
      ],
      "metadata": {
        "colab": {
          "base_uri": "https://localhost:8080/"
        },
        "id": "2twSubW9NivI",
        "outputId": "e237d9a9-08cb-4fe6-cefc-9567ccd57544"
      },
      "execution_count": 19,
      "outputs": [
        {
          "output_type": "stream",
          "name": "stdout",
          "text": [
            "Tv do Quarto Volume: ||||\n",
            "Tv do Quarto Volume: |||||\n",
            "Tv do Quarto Volume: ||||||\n",
            "Tv do Quarto Volume: |||||||\n",
            "Tv do Quarto Volume: ||||||||\n",
            "Tv do Quarto Volume: |||||||||\n",
            "Tv do Quarto Volume: ||||||||||\n",
            "Tv do Quarto Volume: ||||||||||\n",
            "Tv do Quarto Volume: ||||||||||\n",
            "Tv do Quarto Volume: ||||||||||\n"
          ]
        }
      ]
    },
    {
      "cell_type": "code",
      "source": [
        "c.diminuir_canal(\"Tv\")"
      ],
      "metadata": {
        "colab": {
          "base_uri": "https://localhost:8080/",
          "height": 287
        },
        "id": "fJb7-UCuOfbN",
        "outputId": "8605b23e-5624-4ae5-b1c5-2a232088d0b9"
      },
      "execution_count": 20,
      "outputs": [
        {
          "output_type": "error",
          "ename": "AttributeError",
          "evalue": "ignored",
          "traceback": [
            "\u001b[0;31m---------------------------------------------------------------------------\u001b[0m",
            "\u001b[0;31mAttributeError\u001b[0m                            Traceback (most recent call last)",
            "\u001b[0;32m<ipython-input-20-eb8fd1b44ba9>\u001b[0m in \u001b[0;36m<module>\u001b[0;34m()\u001b[0m\n\u001b[0;32m----> 1\u001b[0;31m \u001b[0mc\u001b[0m\u001b[0;34m.\u001b[0m\u001b[0mdiminuir_canal\u001b[0m\u001b[0;34m(\u001b[0m\u001b[0;34m\"Tv\"\u001b[0m\u001b[0;34m)\u001b[0m\u001b[0;34m\u001b[0m\u001b[0;34m\u001b[0m\u001b[0m\n\u001b[0m",
            "\u001b[0;32m<ipython-input-10-37dcb9b17739>\u001b[0m in \u001b[0;36mdiminuir_canal\u001b[0;34m(self, tv)\u001b[0m\n\u001b[1;32m     11\u001b[0m     \u001b[0mtv\u001b[0m\u001b[0;34m.\u001b[0m\u001b[0mmudar_canal\u001b[0m\u001b[0;34m(\u001b[0m\u001b[0;36m1\u001b[0m\u001b[0;34m)\u001b[0m\u001b[0;34m\u001b[0m\u001b[0;34m\u001b[0m\u001b[0m\n\u001b[1;32m     12\u001b[0m   \u001b[0;32mdef\u001b[0m \u001b[0mdiminuir_canal\u001b[0m\u001b[0;34m(\u001b[0m\u001b[0mself\u001b[0m\u001b[0;34m,\u001b[0m \u001b[0mtv\u001b[0m\u001b[0;34m)\u001b[0m\u001b[0;34m:\u001b[0m\u001b[0;34m\u001b[0m\u001b[0;34m\u001b[0m\u001b[0m\n\u001b[0;32m---> 13\u001b[0;31m     \u001b[0mtv\u001b[0m\u001b[0;34m.\u001b[0m\u001b[0mmudar_canal\u001b[0m\u001b[0;34m(\u001b[0m\u001b[0;34m-\u001b[0m\u001b[0;36m1\u001b[0m\u001b[0;34m)\u001b[0m\u001b[0;34m\u001b[0m\u001b[0;34m\u001b[0m\u001b[0m\n\u001b[0m\u001b[1;32m     14\u001b[0m   \u001b[0;32mdef\u001b[0m \u001b[0mtrocar_canal\u001b[0m\u001b[0;34m(\u001b[0m\u001b[0mself\u001b[0m\u001b[0;34m,\u001b[0m \u001b[0mtv\u001b[0m\u001b[0;34m,\u001b[0m \u001b[0mcanal\u001b[0m\u001b[0;34m)\u001b[0m\u001b[0;34m:\u001b[0m\u001b[0;34m\u001b[0m\u001b[0;34m\u001b[0m\u001b[0m\n\u001b[1;32m     15\u001b[0m     \u001b[0mtv\u001b[0m\u001b[0;34m.\u001b[0m\u001b[0mtrocar_canal\u001b[0m\u001b[0;34m(\u001b[0m\u001b[0mcanal\u001b[0m\u001b[0;34m)\u001b[0m\u001b[0;34m\u001b[0m\u001b[0;34m\u001b[0m\u001b[0m\n",
            "\u001b[0;31mAttributeError\u001b[0m: 'str' object has no attribute 'mudar_canal'"
          ]
        }
      ]
    },
    {
      "cell_type": "code",
      "source": [
        "c.aumentar_canal(\"texto\")\n",
        "c.aumentar_canal(t2)"
      ],
      "metadata": {
        "colab": {
          "base_uri": "https://localhost:8080/"
        },
        "id": "9SBp_nxmPK3Z",
        "outputId": "62159bf7-4be7-49df-f518-e35270ef9d99"
      },
      "execution_count": 26,
      "outputs": [
        {
          "output_type": "stream",
          "name": "stdout",
          "text": [
            "tv deve ser instância da classe Televisão\n",
            "Tv do Quarto Canal: 11\n"
          ]
        }
      ]
    },
    {
      "cell_type": "code",
      "source": [
        ""
      ],
      "metadata": {
        "id": "eZ1aVZzJPRpH"
      },
      "execution_count": null,
      "outputs": []
    }
  ]
}