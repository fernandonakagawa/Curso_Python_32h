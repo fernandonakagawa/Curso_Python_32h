{
  "nbformat": 4,
  "nbformat_minor": 0,
  "metadata": {
    "colab": {
      "name": "Curso_Python_32h_Aula07.ipynb",
      "provenance": [],
      "collapsed_sections": [],
      "authorship_tag": "ABX9TyO0vUL3dRraayCxn9Pz6GIY",
      "include_colab_link": true
    },
    "kernelspec": {
      "name": "python3",
      "display_name": "Python 3"
    },
    "language_info": {
      "name": "python"
    }
  },
  "cells": [
    {
      "cell_type": "markdown",
      "metadata": {
        "id": "view-in-github",
        "colab_type": "text"
      },
      "source": [
        "<a href=\"https://colab.research.google.com/github/fernandonakagawa/Curso_Python_32h/blob/main/Curso_Python_32h_Aula07.ipynb\" target=\"_parent\"><img src=\"https://colab.research.google.com/assets/colab-badge.svg\" alt=\"Open In Colab\"/></a>"
      ]
    },
    {
      "cell_type": "markdown",
      "source": [
        "#Desafio 06"
      ],
      "metadata": {
        "id": "mi_bf-r-IzPh"
      }
    },
    {
      "cell_type": "code",
      "execution_count": 9,
      "metadata": {
        "id": "vcu5xV97F8pu",
        "colab": {
          "base_uri": "https://localhost:8080/"
        },
        "outputId": "4860acc2-d66c-4e73-8615-5d66251cf867"
      },
      "outputs": [
        {
          "output_type": "stream",
          "name": "stdout",
          "text": [
            "Tv da Sala\n",
            "Tv do Quarto\n"
          ]
        }
      ],
      "source": [
        "\"\"\"Crie uma classe Televisao e uma classe ControleRemoto que pode\n",
        "controlar o volume e trocar os canais da televisão. O controle de\n",
        "volume permite: aumentar ou diminuir a potência do volume de som em\n",
        "uma unidade de cada vez; aumentar e diminuir o número do canal em uma\n",
        "unidade; trocar para um canal indicado; consultar o valor do volume\n",
        "de som e o canal selecionado.\"\"\"\n",
        "class Televisao:\n",
        "  def __init__(self, nome):\n",
        "    self.nome = nome\n",
        "    self.volume = 0\n",
        "    self.canal = 1\n",
        "  def __str__(self):\n",
        "    return self.nome\n",
        "\n",
        "  def mudar_volume(self, quantidade):\n",
        "    self.volume += quantidade\n",
        "    if self.volume < 0: self.volume = 0\n",
        "    if self.volume > 10: self.volume = 10\n",
        "    self.mostrar_volume()\n",
        "\n",
        "  def mostrar_volume(self):\n",
        "    texto = f\"{self.nome} Volume: \"\n",
        "    for i in range(self.volume):\n",
        "      texto += \"|\"\n",
        "    print(texto)\n",
        "\n",
        "  def mudar_canal(self, quantidade):\n",
        "    self.trocar_canal(self.canal + quantidade)\n",
        "\n",
        "  def trocar_canal(self, canal):\n",
        "    self.canal = canal\n",
        "    if self.canal < 0: self.canal = 0\n",
        "    if self.canal > 99: self.canal = 99\n",
        "    self.mostrar_canal()\n",
        "\n",
        "  def mostrar_canal(self):\n",
        "    print(f\"{self.nome} Canal:\", self.canal)\n",
        "\n",
        "t1 = Televisao(\"Tv da Sala\")\n",
        "print(t1)\n",
        "t2 = Televisao(\"Tv do Quarto\")\n",
        "print(t2)"
      ]
    },
    {
      "cell_type": "code",
      "source": [
        "class ControleRemoto:\n",
        "  def __init__(self, nome):\n",
        "    self.nome = nome\n",
        "  def __str__(self):\n",
        "    return self.nome\n",
        "  def aumentar_volume(self, tv):\n",
        "    tv.mudar_volume(1)\n",
        "  def diminuir_volume(self, tv):\n",
        "    tv.mudar_volume(-1)\n",
        "  def aumentar_canal(self, tv):\n",
        "    if type(tv) == Televisao:\n",
        "      tv.mudar_canal(1)\n",
        "    else: print(\"tv deve ser instância da classe Televisão\")\n",
        "  def diminuir_canal(self, tv):\n",
        "    tv.mudar_canal(-1)\n",
        "  def trocar_canal(self, tv, canal):\n",
        "    tv.trocar_canal(canal)\n",
        "\n",
        "c = ControleRemoto(\"Controle Remoto Universal\")\n",
        "print(c)"
      ],
      "metadata": {
        "colab": {
          "base_uri": "https://localhost:8080/"
        },
        "id": "0Kp2J0nBKIpt",
        "outputId": "478b2541-dc3b-4e86-8024-3f1ba64b5e06"
      },
      "execution_count": 24,
      "outputs": [
        {
          "output_type": "stream",
          "name": "stdout",
          "text": [
            "Controle Remoto Universal\n"
          ]
        }
      ]
    },
    {
      "cell_type": "code",
      "source": [
        "c.aumentar_volume(t1)\n",
        "c.aumentar_volume(t1)\n",
        "c.aumentar_volume(t1)\n",
        "c.aumentar_volume(t1)\n",
        "c.aumentar_volume(t1)"
      ],
      "metadata": {
        "colab": {
          "base_uri": "https://localhost:8080/"
        },
        "id": "enjVUdrcNIkO",
        "outputId": "1470201b-191d-4bc0-d8c3-4722f0784c6d"
      },
      "execution_count": 12,
      "outputs": [
        {
          "output_type": "stream",
          "name": "stdout",
          "text": [
            "Tv da Sala Volume: ||\n",
            "Tv da Sala Volume: |||\n",
            "Tv da Sala Volume: ||||\n",
            "Tv da Sala Volume: |||||\n",
            "Tv da Sala Volume: ||||||\n"
          ]
        }
      ]
    },
    {
      "cell_type": "code",
      "source": [
        "c.trocar_canal(t2, 10)\n",
        "c.trocar_canal(t1, 11)\n",
        "c.aumentar_volume(t2)\n",
        "c.diminuir_volume(t1)"
      ],
      "metadata": {
        "colab": {
          "base_uri": "https://localhost:8080/"
        },
        "id": "V_0IQV2tNQEQ",
        "outputId": "1bef81e1-1082-4c91-986a-fd0af7c59bfb"
      },
      "execution_count": 17,
      "outputs": [
        {
          "output_type": "stream",
          "name": "stdout",
          "text": [
            "Tv do Quarto Canal: 10\n",
            "Tv da Sala Canal: 11\n",
            "Tv do Quarto Volume: |||\n",
            "Tv da Sala Volume: |||||\n"
          ]
        }
      ]
    },
    {
      "cell_type": "code",
      "source": [
        "import time\n",
        "for i in range(10):\n",
        "  time.sleep(1)\n",
        "  #c.aumentar_canal(t1)\n",
        "  c.aumentar_volume(t2)"
      ],
      "metadata": {
        "colab": {
          "base_uri": "https://localhost:8080/"
        },
        "id": "2twSubW9NivI",
        "outputId": "e237d9a9-08cb-4fe6-cefc-9567ccd57544"
      },
      "execution_count": 19,
      "outputs": [
        {
          "output_type": "stream",
          "name": "stdout",
          "text": [
            "Tv do Quarto Volume: ||||\n",
            "Tv do Quarto Volume: |||||\n",
            "Tv do Quarto Volume: ||||||\n",
            "Tv do Quarto Volume: |||||||\n",
            "Tv do Quarto Volume: ||||||||\n",
            "Tv do Quarto Volume: |||||||||\n",
            "Tv do Quarto Volume: ||||||||||\n",
            "Tv do Quarto Volume: ||||||||||\n",
            "Tv do Quarto Volume: ||||||||||\n",
            "Tv do Quarto Volume: ||||||||||\n"
          ]
        }
      ]
    },
    {
      "cell_type": "code",
      "source": [
        "c.diminuir_canal(\"Tv\")"
      ],
      "metadata": {
        "colab": {
          "base_uri": "https://localhost:8080/",
          "height": 293
        },
        "id": "fJb7-UCuOfbN",
        "outputId": "8605b23e-5624-4ae5-b1c5-2a232088d0b9"
      },
      "execution_count": 20,
      "outputs": [
        {
          "output_type": "error",
          "ename": "AttributeError",
          "evalue": "ignored",
          "traceback": [
            "\u001b[0;31m---------------------------------------------------------------------------\u001b[0m",
            "\u001b[0;31mAttributeError\u001b[0m                            Traceback (most recent call last)",
            "\u001b[0;32m<ipython-input-20-eb8fd1b44ba9>\u001b[0m in \u001b[0;36m<module>\u001b[0;34m()\u001b[0m\n\u001b[0;32m----> 1\u001b[0;31m \u001b[0mc\u001b[0m\u001b[0;34m.\u001b[0m\u001b[0mdiminuir_canal\u001b[0m\u001b[0;34m(\u001b[0m\u001b[0;34m\"Tv\"\u001b[0m\u001b[0;34m)\u001b[0m\u001b[0;34m\u001b[0m\u001b[0;34m\u001b[0m\u001b[0m\n\u001b[0m",
            "\u001b[0;32m<ipython-input-10-37dcb9b17739>\u001b[0m in \u001b[0;36mdiminuir_canal\u001b[0;34m(self, tv)\u001b[0m\n\u001b[1;32m     11\u001b[0m     \u001b[0mtv\u001b[0m\u001b[0;34m.\u001b[0m\u001b[0mmudar_canal\u001b[0m\u001b[0;34m(\u001b[0m\u001b[0;36m1\u001b[0m\u001b[0;34m)\u001b[0m\u001b[0;34m\u001b[0m\u001b[0;34m\u001b[0m\u001b[0m\n\u001b[1;32m     12\u001b[0m   \u001b[0;32mdef\u001b[0m \u001b[0mdiminuir_canal\u001b[0m\u001b[0;34m(\u001b[0m\u001b[0mself\u001b[0m\u001b[0;34m,\u001b[0m \u001b[0mtv\u001b[0m\u001b[0;34m)\u001b[0m\u001b[0;34m:\u001b[0m\u001b[0;34m\u001b[0m\u001b[0;34m\u001b[0m\u001b[0m\n\u001b[0;32m---> 13\u001b[0;31m     \u001b[0mtv\u001b[0m\u001b[0;34m.\u001b[0m\u001b[0mmudar_canal\u001b[0m\u001b[0;34m(\u001b[0m\u001b[0;34m-\u001b[0m\u001b[0;36m1\u001b[0m\u001b[0;34m)\u001b[0m\u001b[0;34m\u001b[0m\u001b[0;34m\u001b[0m\u001b[0m\n\u001b[0m\u001b[1;32m     14\u001b[0m   \u001b[0;32mdef\u001b[0m \u001b[0mtrocar_canal\u001b[0m\u001b[0;34m(\u001b[0m\u001b[0mself\u001b[0m\u001b[0;34m,\u001b[0m \u001b[0mtv\u001b[0m\u001b[0;34m,\u001b[0m \u001b[0mcanal\u001b[0m\u001b[0;34m)\u001b[0m\u001b[0;34m:\u001b[0m\u001b[0;34m\u001b[0m\u001b[0;34m\u001b[0m\u001b[0m\n\u001b[1;32m     15\u001b[0m     \u001b[0mtv\u001b[0m\u001b[0;34m.\u001b[0m\u001b[0mtrocar_canal\u001b[0m\u001b[0;34m(\u001b[0m\u001b[0mcanal\u001b[0m\u001b[0;34m)\u001b[0m\u001b[0;34m\u001b[0m\u001b[0;34m\u001b[0m\u001b[0m\n",
            "\u001b[0;31mAttributeError\u001b[0m: 'str' object has no attribute 'mudar_canal'"
          ]
        }
      ]
    },
    {
      "cell_type": "code",
      "source": [
        "c.aumentar_canal(\"texto\")\n",
        "c.aumentar_canal(t2)"
      ],
      "metadata": {
        "colab": {
          "base_uri": "https://localhost:8080/"
        },
        "id": "9SBp_nxmPK3Z",
        "outputId": "62159bf7-4be7-49df-f518-e35270ef9d99"
      },
      "execution_count": 26,
      "outputs": [
        {
          "output_type": "stream",
          "name": "stdout",
          "text": [
            "tv deve ser instância da classe Televisão\n",
            "Tv do Quarto Canal: 11\n"
          ]
        }
      ]
    },
    {
      "cell_type": "code",
      "source": [
        "\"\"\"Crie uma classe Agenda que pode armazenar pessoas e que seja capaz de\n",
        "realizar as seguintes operações:\"\"\"\n",
        "class Pessoa:\n",
        "  def __init__(self, nome, cpf, telefone):\n",
        "    self.nome = nome\n",
        "    self.cpf = cpf\n",
        "    self.telefone = telefone\n",
        "  def __str__(self):\n",
        "    return f\"{self.nome} {self.cpf} {self.telefone}\"\n",
        "\n",
        "p1 = Pessoa(\"Eliane\", \"12345678910\", \"(99)99999-9999\")\n",
        "print(p1)\n",
        "p2 = Pessoa(\"João\", \"12345678911\", \"(98)98989-9090\")\n",
        "print(p2)\n",
        "p3 = Pessoa(\"Eduardo\", \"12345678912\", \"(97)97979-7778\")\n",
        "print(p3)"
      ],
      "metadata": {
        "colab": {
          "base_uri": "https://localhost:8080/"
        },
        "id": "eZ1aVZzJPRpH",
        "outputId": "727b4449-7ba8-4592-95f8-e037f9a04201"
      },
      "execution_count": 29,
      "outputs": [
        {
          "output_type": "stream",
          "name": "stdout",
          "text": [
            "Eliane 12345678910 (99)99999-9999\n",
            "João 12345678911 (98)98989-9090\n",
            "Eduardo 12345678912 (97)97979-7778\n"
          ]
        }
      ]
    },
    {
      "cell_type": "code",
      "source": [
        "class Agenda:\n",
        "  def __init__(self):\n",
        "    self.pessoas = []\n",
        "  def __str__(self):\n",
        "    texto = \"\"\n",
        "    for pessoa in self.pessoas:\n",
        "      texto += f\"{pessoa.nome} {pessoa.cpf} {pessoa.telefone}\\n\"\n",
        "    return texto\n",
        "\n",
        "  def armazena_pessoa(self, nome, cpf, telefone):\n",
        "    p = Pessoa(nome, cpf, telefone)\n",
        "    self.armazena_obj_pessoa(p)\n",
        "  def armazena_obj_pessoa(self, pessoa):\n",
        "    if type(pessoa) == Pessoa:\n",
        "      self.pessoas.append(pessoa)\n",
        "    else:\n",
        "      print(\"Só é possível armazenar instâncias de Pessoa\")\n",
        "\n",
        "  def buscar_pessoa(self, nome):\n",
        "    for i in range( len(self.pessoas) ):\n",
        "      if self.pessoas[i].nome == nome:\n",
        "        return i\n",
        "  def buscar_cpf(self, cpf):\n",
        "    for pessoa in self.pessoas:\n",
        "      if pessoa.cpf == cpf: return pessoa\n",
        "  def buscar_telefone(self, telefone):\n",
        "    for pessoa in self.pessoas:\n",
        "      if pessoa.telefone == telefone: return pessoa\n",
        "\n",
        "  def remover_pessoa(self, nome):\n",
        "    i = self.buscar_pessoa(nome)\n",
        "    if type(i) == int:\n",
        "      self.pessoas.pop(i)\n",
        "  def remover_obj_pessoa(self, pessoa):\n",
        "    self.pessoas.remove(pessoa)\n",
        "\n",
        "agenda = Agenda()\n",
        "agenda.armazena_pessoa(\"Vânia\", \"12345678913\", \"(96)88889-9987\")\n",
        "agenda.armazena_pessoa(\"Gabriel\", \"12345678914\", \"(95)99876-0222\")\n",
        "agenda.armazena_pessoa(\"Michele\", \"12345678915\", \"(94)98765-4432\")\n",
        "print(agenda.buscar_pessoa(\"Gabriel\"))\n",
        "agenda.remover_pessoa(\"Gabriel\")\n",
        "print(agenda)"
      ],
      "metadata": {
        "colab": {
          "base_uri": "https://localhost:8080/"
        },
        "id": "k29YpfNoQuPa",
        "outputId": "f8a422b6-2f21-4ada-f3f0-ef01ea747bbe"
      },
      "execution_count": 42,
      "outputs": [
        {
          "output_type": "stream",
          "name": "stdout",
          "text": [
            "1\n",
            "Vânia 12345678913 (96)88889-9987\n",
            "Michele 12345678915 (94)98765-4432\n",
            "\n"
          ]
        }
      ]
    },
    {
      "cell_type": "code",
      "source": [
        "agenda.armazena_obj_pessoa(p1)\n",
        "agenda.armazena_obj_pessoa(p2)\n",
        "agenda.armazena_obj_pessoa(p3)\n",
        "print(agenda)"
      ],
      "metadata": {
        "colab": {
          "base_uri": "https://localhost:8080/"
        },
        "id": "Zi2E4EJfRQKO",
        "outputId": "47112561-ffe2-45f4-c0e1-8d5728cd5773"
      },
      "execution_count": 43,
      "outputs": [
        {
          "output_type": "stream",
          "name": "stdout",
          "text": [
            "Vânia 12345678913 (96)88889-9987\n",
            "Michele 12345678915 (94)98765-4432\n",
            "Eliane 12345678910 (99)99999-9999\n",
            "João 12345678911 (98)98989-9090\n",
            "Eduardo 12345678912 (97)97979-7778\n",
            "\n"
          ]
        }
      ]
    },
    {
      "cell_type": "code",
      "source": [
        "print(agenda.buscar_cpf(\"12345678910\"))\n",
        "print(agenda.buscar_telefone(\"(96)88889-9987\"))"
      ],
      "metadata": {
        "colab": {
          "base_uri": "https://localhost:8080/"
        },
        "id": "Ywfy5VSHVUWh",
        "outputId": "895c63ee-ecf9-4f9a-c3a1-04cbc018f9c8"
      },
      "execution_count": 47,
      "outputs": [
        {
          "output_type": "stream",
          "name": "stdout",
          "text": [
            "Eliane 12345678910 (99)99999-9999\n",
            "Vânia 12345678913 (96)88889-9987\n"
          ]
        }
      ]
    },
    {
      "cell_type": "code",
      "source": [
        "agenda.remover_obj_pessoa(p1)\n",
        "print(agenda)"
      ],
      "metadata": {
        "colab": {
          "base_uri": "https://localhost:8080/"
        },
        "id": "M9YS7Tg8UStn",
        "outputId": "0ee41d55-aa03-4f8d-84e0-b0c0aaa8d2be"
      },
      "execution_count": 48,
      "outputs": [
        {
          "output_type": "stream",
          "name": "stdout",
          "text": [
            "Vânia 12345678913 (96)88889-9987\n",
            "Michele 12345678915 (94)98765-4432\n",
            "João 12345678911 (98)98989-9090\n",
            "Eduardo 12345678912 (97)97979-7778\n",
            "\n"
          ]
        }
      ]
    },
    {
      "cell_type": "code",
      "source": [
        "a = 3.141516\n",
        "print(\"%.2f\" % a)"
      ],
      "metadata": {
        "colab": {
          "base_uri": "https://localhost:8080/"
        },
        "id": "MB4pWbyUV7fM",
        "outputId": "b5c63d38-8802-4c4c-ccc8-ce10ae8bdfa8"
      },
      "execution_count": 2,
      "outputs": [
        {
          "output_type": "stream",
          "name": "stdout",
          "text": [
            "3.14\n"
          ]
        }
      ]
    },
    {
      "cell_type": "code",
      "source": [
        "import datetime\n",
        "hora = datetime.datetime.now()\n",
        "print(hora.replace(microsecond=0))"
      ],
      "metadata": {
        "colab": {
          "base_uri": "https://localhost:8080/"
        },
        "id": "A0GCQtcaE7kM",
        "outputId": "4732dca2-ac0d-4246-bba7-bbc314c13ad0"
      },
      "execution_count": 5,
      "outputs": [
        {
          "output_type": "stream",
          "name": "stdout",
          "text": [
            "2022-05-07 01:16:00\n"
          ]
        }
      ]
    },
    {
      "cell_type": "code",
      "source": [
        ""
      ],
      "metadata": {
        "id": "MVTs0pahFMjC"
      },
      "execution_count": null,
      "outputs": []
    }
  ]
}