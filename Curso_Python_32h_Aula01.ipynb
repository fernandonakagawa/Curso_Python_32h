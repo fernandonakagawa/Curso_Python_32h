{
  "nbformat": 4,
  "nbformat_minor": 0,
  "metadata": {
    "colab": {
      "name": "Curso_Python_32h_Aula01.ipynb",
      "provenance": [],
      "collapsed_sections": [],
      "authorship_tag": "ABX9TyNd4CQWS8J4r/lwaXhhH/w7",
      "include_colab_link": true
    },
    "kernelspec": {
      "name": "python3",
      "display_name": "Python 3"
    },
    "language_info": {
      "name": "python"
    }
  },
  "cells": [
    {
      "cell_type": "markdown",
      "metadata": {
        "id": "view-in-github",
        "colab_type": "text"
      },
      "source": [
        "<a href=\"https://colab.research.google.com/github/fernandonakagawa/Curso_Python_32h/blob/main/Curso_Python_32h_Aula01.ipynb\" target=\"_parent\"><img src=\"https://colab.research.google.com/assets/colab-badge.svg\" alt=\"Open In Colab\"/></a>"
      ]
    },
    {
      "cell_type": "code",
      "execution_count": 16,
      "metadata": {
        "colab": {
          "base_uri": "https://localhost:8080/"
        },
        "id": "MEOmSBIvN83C",
        "outputId": "3448c2e4-21ce-456e-c57e-640de21b7150"
      },
      "outputs": [
        {
          "output_type": "stream",
          "name": "stdout",
          "text": [
            "Hello World!\n"
          ]
        }
      ],
      "source": [
        "#o comando print mostra uma mensagem na tela\n",
        "print(\"Hello World!\")"
      ]
    },
    {
      "cell_type": "code",
      "source": [
        "#comentários não afetam o código\n",
        "\n",
        "\"\"\"\n",
        "Iniciar um comentário \n",
        "de bloco\n",
        "\n",
        "print(\"oi\")\n",
        "\"\"\"\n",
        "print(\"tchau\")"
      ],
      "metadata": {
        "colab": {
          "base_uri": "https://localhost:8080/"
        },
        "id": "u2I_Jk2OO8DG",
        "outputId": "be226ddd-aecf-4f98-ad97-42b230f995d0"
      },
      "execution_count": 15,
      "outputs": [
        {
          "output_type": "stream",
          "name": "stdout",
          "text": [
            "tchau\n"
          ]
        }
      ]
    },
    {
      "cell_type": "code",
      "source": [
        "a = 10\n",
        "print(a)\n",
        "a = 15\n",
        "a = a + 1\n",
        "print(a)\n",
        "A = 2\n",
        "print(A)\n",
        "Joao = 5\n",
        "joao = 6\n",
        "print(Joao)\n",
        "print(joao)"
      ],
      "metadata": {
        "colab": {
          "base_uri": "https://localhost:8080/"
        },
        "id": "_A89dXCRY1mi",
        "outputId": "3427b6f8-d393-496d-8815-12eafd18308e"
      },
      "execution_count": 27,
      "outputs": [
        {
          "output_type": "stream",
          "name": "stdout",
          "text": [
            "10\n",
            "16\n",
            "2\n",
            "5\n",
            "6\n"
          ]
        }
      ]
    },
    {
      "cell_type": "code",
      "source": [
        "x = \"Joao\"\n",
        "print(x)\n",
        "print(Joao)\n",
        "print(\"Joao\")\n",
        "y = 8.5\n",
        "print(y+2)\n",
        "print(y-2)\n",
        "print(y*2)\n",
        "print(y/2)\n",
        "print(y%2)\n",
        "f = False\n",
        "print(f)"
      ],
      "metadata": {
        "colab": {
          "base_uri": "https://localhost:8080/"
        },
        "id": "94kCppkeZjy_",
        "outputId": "fff3de9a-0f6e-44c9-b401-7046c1bce3f3"
      },
      "execution_count": 49,
      "outputs": [
        {
          "output_type": "stream",
          "name": "stdout",
          "text": [
            "Joao\n",
            "5\n",
            "Joao\n",
            "10.5\n",
            "6.5\n",
            "17.0\n",
            "4.25\n",
            "0.5\n",
            "False\n"
          ]
        }
      ]
    },
    {
      "cell_type": "code",
      "source": [
        "print( type(x) )\n",
        "print( type(a) )\n",
        "print( type(f) )\n",
        "print( type(y) )"
      ],
      "metadata": {
        "colab": {
          "base_uri": "https://localhost:8080/"
        },
        "id": "6Gl1-xzhb1By",
        "outputId": "67427845-a49e-4359-e641-803d3c406099"
      },
      "execution_count": 48,
      "outputs": [
        {
          "output_type": "stream",
          "name": "stdout",
          "text": [
            "<class 'str'>\n",
            "<class 'int'>\n",
            "<class 'bool'>\n",
            "<class 'float'>\n"
          ]
        }
      ]
    },
    {
      "cell_type": "code",
      "source": [
        "print( type(int) )\n",
        "print( type(str) )\n",
        "print( type(type) )\n",
        "print( type(print) )\n",
        "print( type(False) )\n",
        "print( type(0) )"
      ],
      "metadata": {
        "colab": {
          "base_uri": "https://localhost:8080/"
        },
        "id": "QRZRsqMbQmJI",
        "outputId": "cb00f623-1b1b-4722-aba4-0fe9579daeeb"
      },
      "execution_count": 54,
      "outputs": [
        {
          "output_type": "stream",
          "name": "stdout",
          "text": [
            "<class 'type'>\n",
            "<class 'type'>\n",
            "<class 'type'>\n",
            "<class 'builtin_function_or_method'>\n",
            "<class 'bool'>\n",
            "<class 'int'>\n"
          ]
        }
      ]
    },
    {
      "cell_type": "code",
      "source": [
        "entrada = input(\"Digite o seu nome: \")\n",
        "print(\"Boa noite\", entrada )"
      ],
      "metadata": {
        "colab": {
          "base_uri": "https://localhost:8080/"
        },
        "id": "7XUzCmjBXYHS",
        "outputId": "0c00f6b4-c1da-4eae-b387-60127b0d1eb8"
      },
      "execution_count": 58,
      "outputs": [
        {
          "output_type": "stream",
          "name": "stdout",
          "text": [
            "Digite o seu nome: Fernando\n",
            "Boa noite Fernando\n"
          ]
        }
      ]
    },
    {
      "cell_type": "code",
      "source": [
        "aa = input(\"Digite um número: \")\n",
        "bb = input(\"Digite outro número: \")\n",
        "cc = aa + bb\n",
        "print(\"A soma dos números é \", cc)\n",
        "\n"
      ],
      "metadata": {
        "colab": {
          "base_uri": "https://localhost:8080/"
        },
        "id": "Q7fHNulpgUAI",
        "outputId": "f3382206-84e9-4ab1-e5c6-5b7aa6daca59"
      },
      "execution_count": 61,
      "outputs": [
        {
          "output_type": "stream",
          "name": "stdout",
          "text": [
            "Digite um número: bata\n",
            "Digite outro número: ta\n",
            "A soma dos números é  batata\n"
          ]
        }
      ]
    },
    {
      "cell_type": "code",
      "source": [
        "aa2 = int(input(\"Digite um número: \"))\n",
        "bb2 = input(\"Digite outro número: \")\n",
        "bb2 = int(bb2)\n",
        "cc2 = aa2 + bb2\n",
        "texto1 = \"A soma dos números é \"\n",
        "print(texto1, aa2+bb2)\n",
        "print(cc2 * cc2)\n",
        "print(cc2 ** 3)"
      ],
      "metadata": {
        "colab": {
          "base_uri": "https://localhost:8080/"
        },
        "id": "oA4UDSlUhXAa",
        "outputId": "e9efd724-ad1e-4a63-c9f7-0395591228cd"
      },
      "execution_count": 67,
      "outputs": [
        {
          "output_type": "stream",
          "name": "stdout",
          "text": [
            "Digite um número: 8987778\n",
            "Digite outro número: 1\n",
            "A soma dos números é  8987779\n",
            "80780171352841\n",
            "726034327701465930139\n"
          ]
        }
      ]
    }
  ]
}