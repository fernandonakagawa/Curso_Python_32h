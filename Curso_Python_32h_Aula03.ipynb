{
  "nbformat": 4,
  "nbformat_minor": 0,
  "metadata": {
    "colab": {
      "name": "Curso_Python_32h_Aula03.ipynb",
      "provenance": [],
      "collapsed_sections": [],
      "authorship_tag": "ABX9TyNs1b2IZq1FFtGRxqNf+aeC",
      "include_colab_link": true
    },
    "kernelspec": {
      "name": "python3",
      "display_name": "Python 3"
    },
    "language_info": {
      "name": "python"
    }
  },
  "cells": [
    {
      "cell_type": "markdown",
      "metadata": {
        "id": "view-in-github",
        "colab_type": "text"
      },
      "source": [
        "<a href=\"https://colab.research.google.com/github/fernandonakagawa/Curso_Python_32h/blob/main/Curso_Python_32h_Aula03.ipynb\" target=\"_parent\"><img src=\"https://colab.research.google.com/assets/colab-badge.svg\" alt=\"Open In Colab\"/></a>"
      ]
    },
    {
      "cell_type": "markdown",
      "source": [
        "## Desafio 02"
      ],
      "metadata": {
        "id": "NX8buMDWPlha"
      }
    },
    {
      "cell_type": "code",
      "execution_count": 5,
      "metadata": {
        "colab": {
          "base_uri": "https://localhost:8080/"
        },
        "id": "Ytaz09AmLGNV",
        "outputId": "77d1fbe3-8b9f-4bb0-94bf-58fa6d322a24"
      },
      "outputs": [
        {
          "output_type": "stream",
          "name": "stdout",
          "text": [
            "Digite a nota do aluno: 11\n",
            "Nota inválida! Digite um valor de 0 à 10!\n"
          ]
        }
      ],
      "source": [
        "\"\"\"\n",
        "Ler uma nota de 0 à 10 de um aluno. Caso o usuário digite um\n",
        "valor inválido, mostrar a mensagem: Nota inválida! Digite um\n",
        "valor de 0 à 10!\n",
        "\"\"\"\n",
        "nota = float(input(\"Digite a nota do aluno: \"))\n",
        "if nota >= 0 and nota <= 10:\n",
        "  print(\"Nota adicionada com sucesso!\")\n",
        "else:\n",
        "  print(\"Nota inválida! Digite um valor de 0 à 10!\")"
      ]
    },
    {
      "cell_type": "code",
      "source": [
        "\"\"\"\n",
        "leia um número e mostre se ele é positivo ou negativo ou zero.\n",
        "\"\"\"\n",
        "numero = int(input(\"Digite um número: \"))\n",
        "if numero > 0:\n",
        "  print(\"Número positivo.\")\n",
        "elif numero < 0:\n",
        "  print(\"Número negativo.\")\n",
        "else:\n",
        "  print(\"Zero.\")"
      ],
      "metadata": {
        "colab": {
          "base_uri": "https://localhost:8080/"
        },
        "id": "wj47ycMoRFlt",
        "outputId": "d84f2da5-bcea-4931-e8a7-ddfeeba5ba8d"
      },
      "execution_count": 8,
      "outputs": [
        {
          "output_type": "stream",
          "name": "stdout",
          "text": [
            "Digite um número: 0\n",
            "Zero.\n"
          ]
        }
      ]
    },
    {
      "cell_type": "code",
      "source": [
        "#Ler 3 valores e escrever o maior deles.\n",
        "v1 = int(input(\"Digite o primeiro número: \"))\n",
        "v2 = int(input(\"Digite o segundo número: \"))\n",
        "v3 = int(input(\"Digite o terceiro número: \"))\n",
        "maior = v1\n",
        "if v2 > maior:\n",
        "  maior = v2\n",
        "if v3 > maior:\n",
        "  maior = v3\n",
        "print(\"O maior número é \", maior)"
      ],
      "metadata": {
        "colab": {
          "base_uri": "https://localhost:8080/"
        },
        "id": "XRu5BdRMQYx_",
        "outputId": "fed4f4a3-bcc3-4c40-8131-ad26a508b6ac"
      },
      "execution_count": 11,
      "outputs": [
        {
          "output_type": "stream",
          "name": "stdout",
          "text": [
            "Digite o primeiro número: 3\n",
            "Digite o segundo número: 3\n",
            "Digite o terceiro número: 2\n",
            "O maior número é  3\n"
          ]
        }
      ]
    },
    {
      "cell_type": "code",
      "source": [
        "\"\"\"\n",
        "Ler as notas da 1ª e 2ª avaliações de um aluno. Calcular a média\n",
        "aritmética simples e escrever uma mensagem que diga se o aluno\n",
        "foi ou não aprovado (considerar que nota igual ou maior que 6\n",
        "aluno é aprovado). Escrever também a média calculada.\n",
        "\"\"\"\n",
        "nota1 = float(input(\"Digite primeira nota:\"))\n",
        "nota2 = float(input(\"Digite a segunda nota:\"))\n",
        "media = (nota1 + nota2)/2\n",
        "if media >= 6:\n",
        "  print(\"Aluno aprovado. Média:\", media)\n",
        "else:\n",
        "  print(\"Aluno reprovado. Média:\", media)\n",
        "  "
      ],
      "metadata": {
        "colab": {
          "base_uri": "https://localhost:8080/"
        },
        "id": "5SdMNGXjSfHa",
        "outputId": "b7f42313-4256-4810-c205-58a7466e710c"
      },
      "execution_count": 13,
      "outputs": [
        {
          "output_type": "stream",
          "name": "stdout",
          "text": [
            "Digite primeira nota:6\n",
            "Digite a segunda nota:3\n",
            "Aluno reprovado. Média: 4.5\n"
          ]
        }
      ]
    },
    {
      "cell_type": "code",
      "source": [
        "\"\"\"\n",
        "A jornada de trabalho mensal de um funcionário na empresa X é de\n",
        "160 horas. O funcionário que trabalhar mais de 160 horas receberá\n",
        "hora extra, cujo cálculo é o valor da hora regular com um\n",
        "acréscimo de 50%. Escreva um algoritmo que leia o número de horas\n",
        "trabalhadas em um mês, o salário por hora e escreva o salário\n",
        "total do funcionário, que deverá ser acrescido das horas extras,\n",
        "caso tenham sido trabalhadas.\n",
        "\"\"\"\n",
        "horas = int(input(\"Digite o número de horas trabalhadas no mês: \"))\n",
        "salario_hora = float(input(\"Digite o valor da hora:\"))\n",
        "if horas > 160:\n",
        "  horas_extras = horas - 160\n",
        "  salario_hora_extra = salario_hora + salario_hora * 0.5\n",
        "  salario = 160 * salario_hora + horas_extras * salario_hora_extra\n",
        "  print(\"O salário total é de R$\",salario)\n",
        "else:\n",
        "  salario = horas*salario_hora\n",
        "  print(\"O salário total é de R$\", salario)"
      ],
      "metadata": {
        "colab": {
          "base_uri": "https://localhost:8080/"
        },
        "id": "NvyncL4NTkb2",
        "outputId": "362d57fa-64fd-417a-a250-01c470c168d6"
      },
      "execution_count": 15,
      "outputs": [
        {
          "output_type": "stream",
          "name": "stdout",
          "text": [
            "Digite o número de horas trabalhadas no mês: 180\n",
            "Digite o valor da hora:10\n",
            "O salário total é de R$ 1900.0\n"
          ]
        }
      ]
    },
    {
      "cell_type": "code",
      "source": [
        "\"\"\"\n",
        "Um computador costuma apitar quando é ligado. Tais apitos são\n",
        "apitos de diagnóstico, indicando se há algum problema ou não. Se\n",
        "houver um problema, o apito é diferente. Para cada fabricante de\n",
        "BIOS, há uma codificação diferente. Veja a tabela a seguir de um\n",
        "modelo:\n",
        "\"\"\"\n",
        "apitos = int(input(\"Digite o número de apitos:\"))\n",
        "if apitos == 1:\n",
        "  print(\"Atualização de DRAM\")\n",
        "elif apitos == 2:\n",
        "  print(\"Circuito de Paridade\")\n",
        "elif apitos == 3:\n",
        "  print(\"Memória Base 64K RAM\")\n",
        "elif apitos == 4:\n",
        "  print(\"Timer do Sistema\")\n",
        "elif apitos == 5:\n",
        "  print(\"Processador\")\n",
        "else:\n",
        "  print(\"Erro desconhecido.\")"
      ],
      "metadata": {
        "colab": {
          "base_uri": "https://localhost:8080/"
        },
        "id": "IWh6MdJDWGUd",
        "outputId": "c9f5ad68-70aa-46fb-8be2-9bf8ef3bbc42"
      },
      "execution_count": 18,
      "outputs": [
        {
          "output_type": "stream",
          "name": "stdout",
          "text": [
            "Digite o número de apitos:6\n",
            "Erro desconhecido.\n"
          ]
        }
      ]
    },
    {
      "cell_type": "code",
      "source": [
        "\"\"\"\n",
        "leia uma nota de um aluno, de 0 à 10 e mostre na tela o seu\n",
        "conceito. Considere: \n",
        "nota &gt;= 9,0 -&gt; Excelente\n",
        "&gt;= 7,0 e &lt; 9,0 -&gt; Bom\n",
        "&gt;= 5,0 e &lt; 7,0 -&gt; Razoável\n",
        "&lt; 5,0 -&gt; Fraco\n",
        "\"\"\"\n",
        "nota = float(input(\"Digite a nota do aluno: \"))\n",
        "if nota >= 9:\n",
        "  print(\"Excelente\")\n",
        "elif nota >= 7:\n",
        "  print(\"Bom\")\n",
        "elif nota >= 5:\n",
        "  print(\"Razoável\")\n",
        "else:\n",
        "  print(\"Fraco\")"
      ],
      "metadata": {
        "colab": {
          "base_uri": "https://localhost:8080/"
        },
        "id": "O4zDHEgaW-c5",
        "outputId": "d2d6eb08-53b2-414b-caef-bf4c42ed8dca"
      },
      "execution_count": 22,
      "outputs": [
        {
          "output_type": "stream",
          "name": "stdout",
          "text": [
            "Digite a nota do aluno: 10\n",
            "Excelente\n"
          ]
        }
      ]
    },
    {
      "cell_type": "markdown",
      "source": [
        "#Aula 03\n"
      ],
      "metadata": {
        "id": "oZc1n1ScXxa0"
      }
    },
    {
      "cell_type": "code",
      "source": [
        "x = 0\n",
        "while x < 4:\n",
        "  print(x)\n",
        "  x += 1\n",
        "#o código continua aqui\n"
      ],
      "metadata": {
        "colab": {
          "base_uri": "https://localhost:8080/"
        },
        "id": "3_7jl7L3XzCY",
        "outputId": "634a48fd-a2e4-4aed-964a-e9e4fce40b38"
      },
      "execution_count": 24,
      "outputs": [
        {
          "output_type": "stream",
          "name": "stdout",
          "text": [
            "0\n",
            "1\n",
            "2\n",
            "3\n"
          ]
        }
      ]
    },
    {
      "cell_type": "code",
      "source": [
        "for x in range(5):\n",
        "  print(x)"
      ],
      "metadata": {
        "colab": {
          "base_uri": "https://localhost:8080/"
        },
        "id": "bDOHj6V5azeE",
        "outputId": "8465a7d5-1a9a-42f1-f01c-11a6be96e822"
      },
      "execution_count": 25,
      "outputs": [
        {
          "output_type": "stream",
          "name": "stdout",
          "text": [
            "0\n",
            "1\n",
            "2\n",
            "3\n",
            "4\n"
          ]
        }
      ]
    },
    {
      "cell_type": "code",
      "source": [
        "for x in range(3,7):\n",
        "  print(x)"
      ],
      "metadata": {
        "colab": {
          "base_uri": "https://localhost:8080/"
        },
        "id": "s20SqgHAbBHH",
        "outputId": "81015a8f-525a-4b7f-9c7b-4c3044e9e2f3"
      },
      "execution_count": 36,
      "outputs": [
        {
          "output_type": "stream",
          "name": "stdout",
          "text": [
            "3\n",
            "4\n",
            "5\n",
            "6\n"
          ]
        }
      ]
    },
    {
      "cell_type": "code",
      "source": [
        "for x in range(4,20,3):\n",
        "  print(x)"
      ],
      "metadata": {
        "colab": {
          "base_uri": "https://localhost:8080/"
        },
        "id": "9Gjj3X6-baLA",
        "outputId": "4501e89a-5574-4ed2-8828-61f2d90172d4"
      },
      "execution_count": 38,
      "outputs": [
        {
          "output_type": "stream",
          "name": "stdout",
          "text": [
            "4\n",
            "7\n",
            "10\n",
            "13\n",
            "16\n",
            "19\n"
          ]
        }
      ]
    },
    {
      "cell_type": "code",
      "source": [
        "#for \"para trás\"\n",
        "for x in range(20,4,-1):\n",
        "  print(x)"
      ],
      "metadata": {
        "colab": {
          "base_uri": "https://localhost:8080/"
        },
        "id": "8eg9g82icg4J",
        "outputId": "5a9811ea-4571-4134-8b03-0837b9c037c4"
      },
      "execution_count": 39,
      "outputs": [
        {
          "output_type": "stream",
          "name": "stdout",
          "text": [
            "20\n",
            "19\n",
            "18\n",
            "17\n",
            "16\n",
            "15\n",
            "14\n",
            "13\n",
            "12\n",
            "11\n",
            "10\n",
            "9\n",
            "8\n",
            "7\n",
            "6\n",
            "5\n"
          ]
        }
      ]
    },
    {
      "cell_type": "code",
      "source": [
        "voltas = int(input(\"Digite o número de voltas:\"))\n",
        "for x in range(voltas):\n",
        "  print(\"Vrum\")"
      ],
      "metadata": {
        "colab": {
          "base_uri": "https://localhost:8080/"
        },
        "id": "mnoLmKFfcrtP",
        "outputId": "0345f6b8-f249-4b55-8256-648e323874b8"
      },
      "execution_count": 40,
      "outputs": [
        {
          "output_type": "stream",
          "name": "stdout",
          "text": [
            "Digite o número de voltas:5\n",
            "Vrum\n",
            "Vrum\n",
            "Vrum\n",
            "Vrum\n",
            "Vrum\n"
          ]
        }
      ]
    },
    {
      "cell_type": "markdown",
      "source": [
        "#Desafio 03"
      ],
      "metadata": {
        "id": "zkSVTOdcddfE"
      }
    },
    {
      "cell_type": "code",
      "source": [
        "\"\"\"\n",
        "leia do teclado o número total de eleitores de um município,\n",
        "o número de votos brancos, nulos e válidos. Calcular e\n",
        "escrever o percentual que cada um representa em relação ao\n",
        "total de eleitores. (Valores inválidos: números negativos).\n",
        "\"\"\"\n",
        "num_eleitores, votos_brancos, votos_nulos, votos_validos = -1,-1,-1,-1\n",
        "while num_eleitores < 0:\n",
        "  num_eleitores = int(input(\"Digite o número total de eleitores: \"))\n",
        "  if num_eleitores < 0:\n",
        "    print(\"Valor inválido.\")\n",
        "while votos_brancos < 0:\n",
        "  votos_brancos = int(input(\"Digite o número de votos em branco: \"))\n",
        "  if votos_brancos < 0: print(\"Valor inválido.\")\n",
        "while votos_nulos < 0:\n",
        "  votos_nulos = int(input(\"Digite o número de votos nulos: \"))\n",
        "  if votos_nulos < 0: print(\"Valor inválido\")\n",
        "while votos_validos < 0:\n",
        "  votos_validos = int(input(\"Digite o número de votos válidos: \"))\n",
        "  if votos_validos < 0: print(\"Valor inválido.\")\n",
        "\n",
        "perc_brancos = votos_brancos / num_eleitores\n",
        "perc_nulos = votos_nulos / num_eleitores\n",
        "perc_validos = votos_validos / num_eleitores\n",
        "print(\"Votos em branco: \", perc_brancos*100,\"%\")\n",
        "print(\"Votos nulos:\", perc_nulos*100,\"%\")\n",
        "print(\"Votos válidos:\", perc_validos*100,\"%\")"
      ],
      "metadata": {
        "colab": {
          "base_uri": "https://localhost:8080/"
        },
        "id": "-WgR-vW8dfKi",
        "outputId": "14e830d2-2fae-49e2-dcfe-b9eb54bab75d"
      },
      "execution_count": 47,
      "outputs": [
        {
          "output_type": "stream",
          "name": "stdout",
          "text": [
            "Digite o número total de eleitores: 200000\n",
            "Digite o número de votos em branco: 300\n",
            "Digite o número de votos nulos: 500\n",
            "Digite o número de votos válidos: 150000\n",
            "Votos em branco:  0.15 %\n",
            "Votos nulos: 0.25 %\n",
            "Votos válidos: 75.0 %\n"
          ]
        }
      ]
    },
    {
      "cell_type": "code",
      "source": [
        "\"\"\"\n",
        "Para a7=0 enquanto a7 menor que 10, incrementando 1, insira\n",
        "um outro while aninhado internamente contendo para a8=0 até\n",
        "a8 menor que 10, incrementando 1, mostre na tela &quot;(a7,a8)&quot;.\n",
        "\"\"\"\n",
        "a7 = 0\n",
        "while a7 < 10:\n",
        "  a8 = 0\n",
        "  while a8 < 10:\n",
        "    print(\"(\", a7, \",\", a8, \")\")\n",
        "    a8 += 1\n",
        "  a7 += 1"
      ],
      "metadata": {
        "colab": {
          "base_uri": "https://localhost:8080/"
        },
        "id": "MOex-4uioxkX",
        "outputId": "2ec52ce9-993e-4614-a4e9-2c4e3379f0c3"
      },
      "execution_count": 48,
      "outputs": [
        {
          "output_type": "stream",
          "name": "stdout",
          "text": [
            "( 0 , 0 )\n",
            "( 0 , 1 )\n",
            "( 0 , 2 )\n",
            "( 0 , 3 )\n",
            "( 0 , 4 )\n",
            "( 0 , 5 )\n",
            "( 0 , 6 )\n",
            "( 0 , 7 )\n",
            "( 0 , 8 )\n",
            "( 0 , 9 )\n",
            "( 1 , 0 )\n",
            "( 1 , 1 )\n",
            "( 1 , 2 )\n",
            "( 1 , 3 )\n",
            "( 1 , 4 )\n",
            "( 1 , 5 )\n",
            "( 1 , 6 )\n",
            "( 1 , 7 )\n",
            "( 1 , 8 )\n",
            "( 1 , 9 )\n",
            "( 2 , 0 )\n",
            "( 2 , 1 )\n",
            "( 2 , 2 )\n",
            "( 2 , 3 )\n",
            "( 2 , 4 )\n",
            "( 2 , 5 )\n",
            "( 2 , 6 )\n",
            "( 2 , 7 )\n",
            "( 2 , 8 )\n",
            "( 2 , 9 )\n",
            "( 3 , 0 )\n",
            "( 3 , 1 )\n",
            "( 3 , 2 )\n",
            "( 3 , 3 )\n",
            "( 3 , 4 )\n",
            "( 3 , 5 )\n",
            "( 3 , 6 )\n",
            "( 3 , 7 )\n",
            "( 3 , 8 )\n",
            "( 3 , 9 )\n",
            "( 4 , 0 )\n",
            "( 4 , 1 )\n",
            "( 4 , 2 )\n",
            "( 4 , 3 )\n",
            "( 4 , 4 )\n",
            "( 4 , 5 )\n",
            "( 4 , 6 )\n",
            "( 4 , 7 )\n",
            "( 4 , 8 )\n",
            "( 4 , 9 )\n",
            "( 5 , 0 )\n",
            "( 5 , 1 )\n",
            "( 5 , 2 )\n",
            "( 5 , 3 )\n",
            "( 5 , 4 )\n",
            "( 5 , 5 )\n",
            "( 5 , 6 )\n",
            "( 5 , 7 )\n",
            "( 5 , 8 )\n",
            "( 5 , 9 )\n",
            "( 6 , 0 )\n",
            "( 6 , 1 )\n",
            "( 6 , 2 )\n",
            "( 6 , 3 )\n",
            "( 6 , 4 )\n",
            "( 6 , 5 )\n",
            "( 6 , 6 )\n",
            "( 6 , 7 )\n",
            "( 6 , 8 )\n",
            "( 6 , 9 )\n",
            "( 7 , 0 )\n",
            "( 7 , 1 )\n",
            "( 7 , 2 )\n",
            "( 7 , 3 )\n",
            "( 7 , 4 )\n",
            "( 7 , 5 )\n",
            "( 7 , 6 )\n",
            "( 7 , 7 )\n",
            "( 7 , 8 )\n",
            "( 7 , 9 )\n",
            "( 8 , 0 )\n",
            "( 8 , 1 )\n",
            "( 8 , 2 )\n",
            "( 8 , 3 )\n",
            "( 8 , 4 )\n",
            "( 8 , 5 )\n",
            "( 8 , 6 )\n",
            "( 8 , 7 )\n",
            "( 8 , 8 )\n",
            "( 8 , 9 )\n",
            "( 9 , 0 )\n",
            "( 9 , 1 )\n",
            "( 9 , 2 )\n",
            "( 9 , 3 )\n",
            "( 9 , 4 )\n",
            "( 9 , 5 )\n",
            "( 9 , 6 )\n",
            "( 9 , 7 )\n",
            "( 9 , 8 )\n",
            "( 9 , 9 )\n"
          ]
        }
      ]
    },
    {
      "cell_type": "code",
      "source": [
        "\"\"\"\n",
        "leia do teclado uma distância em quilômetros e mostre na\n",
        "tela o seu valor convertido em metros. (Valores inválidos:\n",
        "números negativos).\n",
        "\"\"\"\n",
        "dist_km = float(input(\"Digite a distância em km:\"))\n",
        "while dist_km < 0:\n",
        "  print(\"Valor inválido.\")\n",
        "  dist_km = float(input(\"Digite a distância em km:\"))\n",
        "dist_m = dist_km * 1000\n",
        "print(dist_km, \"km em metros é\", dist_m, \"m.\")"
      ],
      "metadata": {
        "colab": {
          "base_uri": "https://localhost:8080/"
        },
        "id": "NZ8LwtgUqwrT",
        "outputId": "07550fe6-fe92-49e6-c87d-3b7687e96277"
      },
      "execution_count": 57,
      "outputs": [
        {
          "output_type": "stream",
          "name": "stdout",
          "text": [
            "Digite a distância em km:2.5\n",
            "2.5 km em metros é 2500.0 m.\n"
          ]
        }
      ]
    },
    {
      "cell_type": "code",
      "source": [
        "nome = input(\"Digite um nome: \")\n",
        "for letra in nome:\n",
        "  print(letra)\n",
        "for x in range(len(nome)):\n",
        "  print(nome[x])"
      ],
      "metadata": {
        "colab": {
          "base_uri": "https://localhost:8080/"
        },
        "id": "FolrX3hnu9DV",
        "outputId": "ee70c201-0ae2-42c2-d92a-7044ece9f711"
      },
      "execution_count": 71,
      "outputs": [
        {
          "output_type": "stream",
          "name": "stdout",
          "text": [
            "Digite um nome: Alex\n",
            "A\n",
            "l\n",
            "e\n",
            "x\n",
            "A\n",
            "l\n",
            "e\n",
            "x\n"
          ]
        }
      ]
    },
    {
      "cell_type": "code",
      "source": [
        "\"\"\"\n",
        "Enquanto a3=20 for maior que 10, decrementando 1 a cada\n",
        "laço, mostre na tela o seu número.\n",
        "\"\"\"\n",
        "a3 = 20\n",
        "while a3 > 10:\n",
        "  print(a3)\n",
        "  a3 -= 1\n",
        "for a3 in range(20,10,-1):\n",
        "  print(a3)"
      ],
      "metadata": {
        "colab": {
          "base_uri": "https://localhost:8080/"
        },
        "id": "bf2oTX6suvl_",
        "outputId": "899bf788-5cc9-4ca6-9ec6-558629a88717"
      },
      "execution_count": 62,
      "outputs": [
        {
          "output_type": "stream",
          "name": "stdout",
          "text": [
            "20\n",
            "19\n",
            "18\n",
            "17\n",
            "16\n",
            "15\n",
            "14\n",
            "13\n",
            "12\n",
            "11\n",
            "20\n",
            "19\n",
            "18\n",
            "17\n",
            "16\n",
            "15\n",
            "14\n",
            "13\n",
            "12\n",
            "11\n"
          ]
        }
      ]
    },
    {
      "cell_type": "code",
      "source": [
        "#Mostrar na tela somente números primos de 2 à 100;\n",
        "#São números naturais maiores que 1 que são divisíveis por 1 e por ele mesmo.\n",
        "\n",
        "for n in range(2,101):\n",
        "  primo = True\n",
        "  for i in range(2, int(n/2)):\n",
        "    if n % i == 0: \n",
        "      primo = False\n",
        "      break\n",
        "  if primo:\n",
        "    print(n)"
      ],
      "metadata": {
        "colab": {
          "base_uri": "https://localhost:8080/"
        },
        "id": "q8pQpG9zw0Jh",
        "outputId": "f7cd0494-79b8-45b0-cc44-aef8b1fcc38d"
      },
      "execution_count": 68,
      "outputs": [
        {
          "output_type": "stream",
          "name": "stdout",
          "text": [
            "2\n",
            "3\n",
            "4\n",
            "5\n",
            "7\n",
            "11\n",
            "13\n",
            "17\n",
            "19\n",
            "23\n",
            "29\n",
            "31\n",
            "37\n",
            "41\n",
            "43\n",
            "47\n",
            "53\n",
            "59\n",
            "61\n",
            "67\n",
            "71\n",
            "73\n",
            "79\n",
            "83\n",
            "89\n",
            "97\n"
          ]
        }
      ]
    },
    {
      "cell_type": "code",
      "source": [
        "#Valor absoluto |3-8|\n",
        "abs(3 - 8)"
      ],
      "metadata": {
        "colab": {
          "base_uri": "https://localhost:8080/"
        },
        "id": "DvnAR9gM4fW1",
        "outputId": "7367fa4a-0f9a-4d10-bcd5-45630f93115c"
      },
      "execution_count": 70,
      "outputs": [
        {
          "output_type": "execute_result",
          "data": {
            "text/plain": [
              "5"
            ]
          },
          "metadata": {},
          "execution_count": 70
        }
      ]
    },
    {
      "cell_type": "code",
      "source": [
        ""
      ],
      "metadata": {
        "id": "TKjl1e_O4mlA"
      },
      "execution_count": null,
      "outputs": []
    }
  ]
}