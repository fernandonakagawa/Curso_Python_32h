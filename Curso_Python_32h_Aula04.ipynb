{
  "nbformat": 4,
  "nbformat_minor": 0,
  "metadata": {
    "colab": {
      "name": "Curso_Python_32h_Aula04.ipynb",
      "provenance": [],
      "collapsed_sections": [],
      "authorship_tag": "ABX9TyPdu2L0g9lYdKcIsfr9hSit",
      "include_colab_link": true
    },
    "kernelspec": {
      "name": "python3",
      "display_name": "Python 3"
    },
    "language_info": {
      "name": "python"
    }
  },
  "cells": [
    {
      "cell_type": "markdown",
      "metadata": {
        "id": "view-in-github",
        "colab_type": "text"
      },
      "source": [
        "<a href=\"https://colab.research.google.com/github/fernandonakagawa/Curso_Python_32h/blob/main/Curso_Python_32h_Aula04.ipynb\" target=\"_parent\"><img src=\"https://colab.research.google.com/assets/colab-badge.svg\" alt=\"Open In Colab\"/></a>"
      ]
    },
    {
      "cell_type": "markdown",
      "source": [
        "#Desafio 03"
      ],
      "metadata": {
        "id": "w1xPuwheV2F3"
      }
    },
    {
      "cell_type": "code",
      "execution_count": 1,
      "metadata": {
        "colab": {
          "base_uri": "https://localhost:8080/"
        },
        "id": "OAXdouh9VtEK",
        "outputId": "c6c853ba-0ae8-4799-d2be-8c9cc9583075"
      },
      "outputs": [
        {
          "output_type": "stream",
          "name": "stdout",
          "text": [
            "Digite o tamanho da base:4\n",
            "Digite o tamanho da altura:5\n",
            "A área do retângulo é  20.0\n"
          ]
        }
      ],
      "source": [
        "\"\"\"leia do teclado as dimensões de um retângulo (base e\n",
        "altura), calcular e escrever a área do retângulo. (Valores\n",
        "inválidos: 0 e números negativos).\"\"\"\n",
        "\n",
        "base = float(input(\"Digite o tamanho da base:\"))\n",
        "while base <= 0:\n",
        "  print(\"Valor inválido.\")\n",
        "  base = float(input(\"Digite o tamanho da base:\"))\n",
        "altura = float(input(\"Digite o tamanho da altura:\"))\n",
        "while altura <= 0:\n",
        "  print(\"Valor inválido.\")\n",
        "  base = float(input(\"Digite o tamanho da altura:\"))\n",
        "area = base * altura\n",
        "print(\"A área do retângulo é \", area)"
      ]
    },
    {
      "cell_type": "code",
      "source": [
        "\"\"\"Leia 2 números e mostre o maior e o menor. (Valores\n",
        "inválidos: números menores que -99 e maiores que 99).\"\"\"\n",
        "#  -101 -100 -99 -98 .... 0 .... 10 11 ... 98 99 100 101\n",
        "\n",
        "n1 = int(input(\"Digite o primeiro número: \"))\n",
        "while n1 < -99 or n1 > 99:\n",
        "  print(\"Valor inválido.\")\n",
        "  n1 = int(input(\"Digite o primeiro número: \"))\n",
        "n2 = int(input(\"Digite o segundo número: \"))\n",
        "while n2 < -99 or n2 > 99:\n",
        "  print(\"Valor inválido.\")\n",
        "  n2 = int(input(\"Digite o segundo número: \"))\n",
        "if n1 > n2:\n",
        "  maior = n1\n",
        "  menor = n2\n",
        "else:\n",
        "  maior = n2\n",
        "  menor = n1\n",
        "print(\"O maior número é\",maior, \"e o menor número é\", menor)\n"
      ],
      "metadata": {
        "colab": {
          "base_uri": "https://localhost:8080/"
        },
        "id": "N5Ts6pUDZ30Z",
        "outputId": "e3fec174-4fb5-42ef-f7a4-e0bb86a4abbd"
      },
      "execution_count": 4,
      "outputs": [
        {
          "output_type": "stream",
          "name": "stdout",
          "text": [
            "Digite o primeiro número: 40\n",
            "Digite o segundo número: -100\n",
            "Valor inválido.\n",
            "Digite o segundo número: 200\n",
            "Valor inválido.\n",
            "Digite o segundo número: -130\n",
            "Valor inválido.\n",
            "Digite o segundo número: 4000\n",
            "Valor inválido.\n",
            "Digite o segundo número: 50\n",
            "O maior número é 50 e o menor número é 40\n"
          ]
        }
      ]
    },
    {
      "cell_type": "code",
      "source": [
        "\"\"\"Enquanto a2=0 for menor que 3, incrementando 1 a cada laço,\n",
        "mostre na tela o seu número multiplicado por 10.\"\"\"\n",
        "a2 = 0\n",
        "while a2 < 3:\n",
        "  print(a2*10)\n",
        "  a2 += 1"
      ],
      "metadata": {
        "colab": {
          "base_uri": "https://localhost:8080/"
        },
        "id": "w1vASntqaYVw",
        "outputId": "78426d27-0634-41d8-b562-a44cc9ab491d"
      },
      "execution_count": 6,
      "outputs": [
        {
          "output_type": "stream",
          "name": "stdout",
          "text": [
            "0\n",
            "10\n",
            "20\n"
          ]
        }
      ]
    },
    {
      "cell_type": "code",
      "source": [
        "#Tabuada\n",
        "for i in range(11):\n",
        "  for j in range(11):\n",
        "    print(i, \"*\", j, \"=\", i*j)"
      ],
      "metadata": {
        "colab": {
          "base_uri": "https://localhost:8080/"
        },
        "id": "aRLLLCQhcfvp",
        "outputId": "d9c6a683-2f3e-4037-ad05-636a2f66ebd2"
      },
      "execution_count": 8,
      "outputs": [
        {
          "output_type": "stream",
          "name": "stdout",
          "text": [
            "0 * 0 = 0\n",
            "0 * 1 = 0\n",
            "0 * 2 = 0\n",
            "0 * 3 = 0\n",
            "0 * 4 = 0\n",
            "0 * 5 = 0\n",
            "0 * 6 = 0\n",
            "0 * 7 = 0\n",
            "0 * 8 = 0\n",
            "0 * 9 = 0\n",
            "0 * 10 = 0\n",
            "1 * 0 = 0\n",
            "1 * 1 = 1\n",
            "1 * 2 = 2\n",
            "1 * 3 = 3\n",
            "1 * 4 = 4\n",
            "1 * 5 = 5\n",
            "1 * 6 = 6\n",
            "1 * 7 = 7\n",
            "1 * 8 = 8\n",
            "1 * 9 = 9\n",
            "1 * 10 = 10\n",
            "2 * 0 = 0\n",
            "2 * 1 = 2\n",
            "2 * 2 = 4\n",
            "2 * 3 = 6\n",
            "2 * 4 = 8\n",
            "2 * 5 = 10\n",
            "2 * 6 = 12\n",
            "2 * 7 = 14\n",
            "2 * 8 = 16\n",
            "2 * 9 = 18\n",
            "2 * 10 = 20\n",
            "3 * 0 = 0\n",
            "3 * 1 = 3\n",
            "3 * 2 = 6\n",
            "3 * 3 = 9\n",
            "3 * 4 = 12\n",
            "3 * 5 = 15\n",
            "3 * 6 = 18\n",
            "3 * 7 = 21\n",
            "3 * 8 = 24\n",
            "3 * 9 = 27\n",
            "3 * 10 = 30\n",
            "4 * 0 = 0\n",
            "4 * 1 = 4\n",
            "4 * 2 = 8\n",
            "4 * 3 = 12\n",
            "4 * 4 = 16\n",
            "4 * 5 = 20\n",
            "4 * 6 = 24\n",
            "4 * 7 = 28\n",
            "4 * 8 = 32\n",
            "4 * 9 = 36\n",
            "4 * 10 = 40\n",
            "5 * 0 = 0\n",
            "5 * 1 = 5\n",
            "5 * 2 = 10\n",
            "5 * 3 = 15\n",
            "5 * 4 = 20\n",
            "5 * 5 = 25\n",
            "5 * 6 = 30\n",
            "5 * 7 = 35\n",
            "5 * 8 = 40\n",
            "5 * 9 = 45\n",
            "5 * 10 = 50\n",
            "6 * 0 = 0\n",
            "6 * 1 = 6\n",
            "6 * 2 = 12\n",
            "6 * 3 = 18\n",
            "6 * 4 = 24\n",
            "6 * 5 = 30\n",
            "6 * 6 = 36\n",
            "6 * 7 = 42\n",
            "6 * 8 = 48\n",
            "6 * 9 = 54\n",
            "6 * 10 = 60\n",
            "7 * 0 = 0\n",
            "7 * 1 = 7\n",
            "7 * 2 = 14\n",
            "7 * 3 = 21\n",
            "7 * 4 = 28\n",
            "7 * 5 = 35\n",
            "7 * 6 = 42\n",
            "7 * 7 = 49\n",
            "7 * 8 = 56\n",
            "7 * 9 = 63\n",
            "7 * 10 = 70\n",
            "8 * 0 = 0\n",
            "8 * 1 = 8\n",
            "8 * 2 = 16\n",
            "8 * 3 = 24\n",
            "8 * 4 = 32\n",
            "8 * 5 = 40\n",
            "8 * 6 = 48\n",
            "8 * 7 = 56\n",
            "8 * 8 = 64\n",
            "8 * 9 = 72\n",
            "8 * 10 = 80\n",
            "9 * 0 = 0\n",
            "9 * 1 = 9\n",
            "9 * 2 = 18\n",
            "9 * 3 = 27\n",
            "9 * 4 = 36\n",
            "9 * 5 = 45\n",
            "9 * 6 = 54\n",
            "9 * 7 = 63\n",
            "9 * 8 = 72\n",
            "9 * 9 = 81\n",
            "9 * 10 = 90\n",
            "10 * 0 = 0\n",
            "10 * 1 = 10\n",
            "10 * 2 = 20\n",
            "10 * 3 = 30\n",
            "10 * 4 = 40\n",
            "10 * 5 = 50\n",
            "10 * 6 = 60\n",
            "10 * 7 = 70\n",
            "10 * 8 = 80\n",
            "10 * 9 = 90\n",
            "10 * 10 = 100\n"
          ]
        }
      ]
    },
    {
      "cell_type": "code",
      "source": [
        "\"\"\"Enquanto a3=20 for maior que 10, decrementando 1 a cada\n",
        "laço, mostre na tela o seu número.\"\"\"\n",
        "for a3 in range(20,10,-1):\n",
        "  print(a3)"
      ],
      "metadata": {
        "colab": {
          "base_uri": "https://localhost:8080/"
        },
        "id": "LECZnQs4c8w6",
        "outputId": "64f119aa-1ead-43ee-aa40-b329cc59d602"
      },
      "execution_count": 9,
      "outputs": [
        {
          "output_type": "stream",
          "name": "stdout",
          "text": [
            "20\n",
            "19\n",
            "18\n",
            "17\n",
            "16\n",
            "15\n",
            "14\n",
            "13\n",
            "12\n",
            "11\n"
          ]
        }
      ]
    },
    {
      "cell_type": "code",
      "source": [
        "\"\"\"leia 3 valores (A, B e C) representando as medidas de um\n",
        "triângulo. Mostrar se tais medidas formam um triângulo ou\n",
        "não. Lembre-se que o valor de cada lado deve ser menor que a\n",
        "soma dos outros 2 lados e deve ser maior que o valor\n",
        "absoluto da diferença entre os outros 2 lados.\n",
        "\n",
        "| B - C | < A < B + C\n",
        "| A - C | < B < A + C\n",
        "| A - B | < C < A + B\n",
        "\"\"\"\n",
        "#a = 3, b = 4, c = 5\n",
        "#1 < 3 < 9 OK\n",
        "#2 < 4 < 8 OK\n",
        "#1 < 5 < 7 OK\n",
        "\n",
        "#a = 1, b = 10, c = 20\n",
        "#10 < 1 < 30 NOK\n",
        "#19 < 10 < 21 NOK\n",
        "#9 < 20 < 11 NOK\n",
        "a = float(input(\"Digite o valor de A: \"))\n",
        "b = float(input(\"Digite o valor de B: \"))\n",
        "c = float(input(\"Digite o valor de C: \"))\n",
        "while abs(b-c) >= a or a >= (b+c)\\\n",
        "      or abs(a-c) >= b or b >= (a+c)\\\n",
        "      or abs(a-b) >= c or c >= (a+b):\n",
        "  print(\"Os valores não formam um triângulo, digite novamente.\")\n",
        "  a = float(input(\"Digite o valor de A: \"))\n",
        "  b = float(input(\"Digite o valor de B: \"))\n",
        "  c = float(input(\"Digite o valor de C: \"))\n",
        "print(\"Os valores formam um triângulo.\")"
      ],
      "metadata": {
        "colab": {
          "base_uri": "https://localhost:8080/"
        },
        "id": "VVvGhc4Bdcmc",
        "outputId": "837b7480-93d3-41c3-9852-b2af4766c66b"
      },
      "execution_count": 11,
      "outputs": [
        {
          "output_type": "stream",
          "name": "stdout",
          "text": [
            "Digite o valor de A: 1\n",
            "Digite o valor de B: 10\n",
            "Digite o valor de C: 20\n",
            "Os valores não formam um triângulo, digite novamente.\n",
            "Digite o valor de A: 3\n",
            "Digite o valor de B: 9\n",
            "Digite o valor de C: 18\n",
            "Os valores não formam um triângulo, digite novamente.\n",
            "Digite o valor de A: 4\n",
            "Digite o valor de B: 5\n",
            "Digite o valor de C: 6\n",
            "Os valores formam um triângulo.\n"
          ]
        }
      ]
    },
    {
      "cell_type": "code",
      "source": [
        "\"\"\"leia do teclado uma temperatura em graus Fahrenheit e mostre\n",
        "na tela o seu valor convertido em Celsius. Lembrando que\n",
        "(c/5) = (f-32)/9. (Valores inválidos: menores que -457,69).\"\"\"\n",
        "f = float(input(\"Digite a temperatura em Fahrenheit: \"))\n",
        "c = ((f - 32) / 9) * 5\n",
        "print(\"A temperatura de\", f, \"Fº convertida em Celsius é de\",c,\"Cº.\" )"
      ],
      "metadata": {
        "colab": {
          "base_uri": "https://localhost:8080/"
        },
        "id": "Nzs4kwHeg4F0",
        "outputId": "c13524dc-1faf-4ceb-e162-6934cf108d5b"
      },
      "execution_count": 18,
      "outputs": [
        {
          "output_type": "stream",
          "name": "stdout",
          "text": [
            "Digite a temperatura em Fahrenheit: 212\n",
            "A temperatura de 212.0 Fº convertida em Celsius é de 100.0 Cº.\n"
          ]
        }
      ]
    },
    {
      "cell_type": "code",
      "source": [
        "#Mostrar na tela todos os números ímpares de 5 à 55\n",
        "for n in range(5,56):\n",
        "  if n % 2 == 1:\n",
        "    print(n)"
      ],
      "metadata": {
        "colab": {
          "base_uri": "https://localhost:8080/"
        },
        "id": "-R_yqWN6k82B",
        "outputId": "2b90e730-3bc9-4075-91ed-a3563dfee984"
      },
      "execution_count": 19,
      "outputs": [
        {
          "output_type": "stream",
          "name": "stdout",
          "text": [
            "5\n",
            "7\n",
            "9\n",
            "11\n",
            "13\n",
            "15\n",
            "17\n",
            "19\n",
            "21\n",
            "23\n",
            "25\n",
            "27\n",
            "29\n",
            "31\n",
            "33\n",
            "35\n",
            "37\n",
            "39\n",
            "41\n",
            "43\n",
            "45\n",
            "47\n",
            "49\n",
            "51\n",
            "53\n",
            "55\n"
          ]
        }
      ]
    },
    {
      "cell_type": "markdown",
      "source": [
        "#Aula 04 - Listas"
      ],
      "metadata": {
        "id": "Ua4B_fGxl8xN"
      }
    },
    {
      "cell_type": "code",
      "source": [
        "lista = [\"Maçã\", \"Uva\", \"Abacate\", \"Laranja\"]\n",
        "print(lista)\n",
        "print( type(lista) )\n",
        "print(lista[3])\n",
        "print( type(lista[3] ))"
      ],
      "metadata": {
        "colab": {
          "base_uri": "https://localhost:8080/"
        },
        "id": "LysbB-8wl_KK",
        "outputId": "e8a085e2-7c01-40a6-df5b-e922e0d07150"
      },
      "execution_count": 40,
      "outputs": [
        {
          "output_type": "stream",
          "name": "stdout",
          "text": [
            "['Maçã', 'Uva', 'Abacate', 'Laranja']\n",
            "<class 'list'>\n",
            "Laranja\n",
            "<class 'str'>\n"
          ]
        }
      ]
    },
    {
      "cell_type": "code",
      "source": [
        "len(lista)"
      ],
      "metadata": {
        "colab": {
          "base_uri": "https://localhost:8080/"
        },
        "id": "IQP565TzmtLu",
        "outputId": "01c3aaa6-99c9-42c2-c455-0231899dce2b"
      },
      "execution_count": 31,
      "outputs": [
        {
          "output_type": "execute_result",
          "data": {
            "text/plain": [
              "4"
            ]
          },
          "metadata": {},
          "execution_count": 31
        }
      ]
    },
    {
      "cell_type": "code",
      "source": [
        "lista_numeros = [2.3, 3.4, 5.6, 1.0]\n",
        "print(max(lista_numeros))"
      ],
      "metadata": {
        "colab": {
          "base_uri": "https://localhost:8080/"
        },
        "id": "X5bo4gkZoZf4",
        "outputId": "722f8155-c0b0-4f82-9251-0a6d5ddeb596"
      },
      "execution_count": 35,
      "outputs": [
        {
          "output_type": "stream",
          "name": "stdout",
          "text": [
            "5.6\n"
          ]
        }
      ]
    },
    {
      "cell_type": "code",
      "source": [
        "item = input(\"Digite um item para a lista de compras. Digite 0 para sair: \")\n",
        "while item != \"0\":\n",
        "  lista.append(item)\n",
        "  print(\"Item\", item, \"adicionado com sucesso!\")\n",
        "  item = input(\"Digite um item para a lista de compras. Digite 0 para sair: \")\n",
        "print(lista)"
      ],
      "metadata": {
        "colab": {
          "base_uri": "https://localhost:8080/"
        },
        "id": "M6bIs5GXoetA",
        "outputId": "f6e88284-ad67-451e-e66f-a6a148e0ba1f"
      },
      "execution_count": 41,
      "outputs": [
        {
          "output_type": "stream",
          "name": "stdout",
          "text": [
            "Digite um item para a lista de compras. Digite 0 para sair: Banana\n",
            "Item Banana adicionado com sucesso!\n",
            "Digite um item para a lista de compras. Digite 0 para sair: Batata\n",
            "Item Batata adicionado com sucesso!\n",
            "Digite um item para a lista de compras. Digite 0 para sair: Pastel\n",
            "Item Pastel adicionado com sucesso!\n",
            "Digite um item para a lista de compras. Digite 0 para sair: 0\n",
            "['Maçã', 'Uva', 'Abacate', 'Laranja', 'Banana', 'Batata', 'Pastel']\n"
          ]
        }
      ]
    },
    {
      "cell_type": "code",
      "source": [
        "item = input(\"Digite um item para remover da lista de compras. Digite 0 para sair: \")\n",
        "while item != \"0\":\n",
        "  lista.remove(item)\n",
        "  print(\"Item\", item, \"removido com sucesso!\")\n",
        "  item = input(\"Digite um item para remover da lista de compras. Digite 0 para sair: \")\n",
        "print(lista)"
      ],
      "metadata": {
        "colab": {
          "base_uri": "https://localhost:8080/"
        },
        "id": "RkeF7ImkpbmQ",
        "outputId": "55a7032a-c0c2-4e73-dca5-0ef7655186ea"
      },
      "execution_count": 42,
      "outputs": [
        {
          "output_type": "stream",
          "name": "stdout",
          "text": [
            "Digite um item para remover da lista de compras. Digite 0 para sair: Uva\n",
            "Item Uva removido com sucesso!\n",
            "Digite um item para remover da lista de compras. Digite 0 para sair: Banana\n",
            "Item Banana removido com sucesso!\n",
            "Digite um item para remover da lista de compras. Digite 0 para sair: Pastel\n",
            "Item Pastel removido com sucesso!\n",
            "Digite um item para remover da lista de compras. Digite 0 para sair: 0\n",
            "['Maçã', 'Abacate', 'Laranja', 'Batata']\n"
          ]
        }
      ]
    },
    {
      "cell_type": "code",
      "source": [
        "lista2 = [\"tijolo\", \"cimento\", \"azulejo\", \"gesso\"]\n",
        "lista2.append(\"parafuso\")\n",
        "print(lista2)\n",
        "lista2.remove(\"cimento\")\n",
        "print(lista2)\n",
        "lista2.append(input(\"Digite um material: \"))\n",
        "print(lista2)"
      ],
      "metadata": {
        "colab": {
          "base_uri": "https://localhost:8080/"
        },
        "id": "o_u5-D8zqiTp",
        "outputId": "36199d70-5426-46c6-bf2b-e3e9b3b72400"
      },
      "execution_count": 45,
      "outputs": [
        {
          "output_type": "stream",
          "name": "stdout",
          "text": [
            "['tijolo', 'cimento', 'azulejo', 'gesso', 'parafuso']\n",
            "['tijolo', 'azulejo', 'gesso', 'parafuso']\n",
            "Digite um material: areia\n",
            "['tijolo', 'azulejo', 'gesso', 'parafuso', 'areia']\n"
          ]
        }
      ]
    },
    {
      "cell_type": "code",
      "source": [
        "lista3 = []\n",
        "for x in range(10):\n",
        "  lista3.append(x)\n",
        "print(lista3)"
      ],
      "metadata": {
        "colab": {
          "base_uri": "https://localhost:8080/"
        },
        "id": "TpqdoSiYqyKt",
        "outputId": "f710c1b2-9045-47d8-eb7d-12ba4074c76d"
      },
      "execution_count": 47,
      "outputs": [
        {
          "output_type": "stream",
          "name": "stdout",
          "text": [
            "[0, 1, 2, 3, 4, 5, 6, 7, 8, 9]\n"
          ]
        }
      ]
    },
    {
      "cell_type": "code",
      "source": [
        "for item in lista2:\n",
        "  print(item)"
      ],
      "metadata": {
        "colab": {
          "base_uri": "https://localhost:8080/"
        },
        "id": "wkCtlu9xrpYo",
        "outputId": "6fd1a6d8-5ecf-4bb2-8804-8386aa4b474d"
      },
      "execution_count": 48,
      "outputs": [
        {
          "output_type": "stream",
          "name": "stdout",
          "text": [
            "tijolo\n",
            "azulejo\n",
            "gesso\n",
            "parafuso\n",
            "areia\n"
          ]
        }
      ]
    },
    {
      "cell_type": "code",
      "source": [
        "for i in range( len(lista2) ):\n",
        "  print(lista2[i])"
      ],
      "metadata": {
        "colab": {
          "base_uri": "https://localhost:8080/"
        },
        "id": "YIBa-CcKr5zE",
        "outputId": "ecd0441d-83c1-4405-d072-fa1f68b073c1"
      },
      "execution_count": 49,
      "outputs": [
        {
          "output_type": "stream",
          "name": "stdout",
          "text": [
            "tijolo\n",
            "azulejo\n",
            "gesso\n",
            "parafuso\n",
            "areia\n"
          ]
        }
      ]
    },
    {
      "cell_type": "code",
      "source": [
        "lista.extend(lista2)\n",
        "print(lista)"
      ],
      "metadata": {
        "colab": {
          "base_uri": "https://localhost:8080/"
        },
        "id": "w1-CABnTsKx2",
        "outputId": "e8891953-5d53-4540-e702-ae8ebd890027"
      },
      "execution_count": 51,
      "outputs": [
        {
          "output_type": "stream",
          "name": "stdout",
          "text": [
            "['Maçã', 'Abacate', 'Laranja', 'Batata', 0, 1, 2, 3, 4, 5, 6, 7, 8, 9, 'tijolo', 'azulejo', 'gesso', 'parafuso', 'areia']\n"
          ]
        }
      ]
    },
    {
      "cell_type": "code",
      "source": [
        "lista.clear()\n",
        "print(lista)"
      ],
      "metadata": {
        "colab": {
          "base_uri": "https://localhost:8080/"
        },
        "id": "UZs3k39tsls_",
        "outputId": "15d7dd1f-daac-436d-e669-8ff06f03a666"
      },
      "execution_count": 52,
      "outputs": [
        {
          "output_type": "stream",
          "name": "stdout",
          "text": [
            "[]\n"
          ]
        }
      ]
    },
    {
      "cell_type": "code",
      "source": [
        "item = lista2.pop(2)\n",
        "print(item)\n",
        "print(lista2)"
      ],
      "metadata": {
        "colab": {
          "base_uri": "https://localhost:8080/"
        },
        "id": "5q07rlj6tM0D",
        "outputId": "02ae3ce0-047d-4f69-c999-d9a591d150ca"
      },
      "execution_count": 54,
      "outputs": [
        {
          "output_type": "stream",
          "name": "stdout",
          "text": [
            "gesso\n",
            "['tijolo', 'azulejo', 'parafuso', 'areia']\n"
          ]
        }
      ]
    },
    {
      "cell_type": "code",
      "source": [
        ""
      ],
      "metadata": {
        "id": "2Qoa1spjtU23"
      },
      "execution_count": null,
      "outputs": []
    }
  ]
}