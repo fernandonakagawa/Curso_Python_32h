{
  "nbformat": 4,
  "nbformat_minor": 0,
  "metadata": {
    "colab": {
      "name": "Curso_Python_32h_Aula05.ipynb",
      "provenance": [],
      "collapsed_sections": [],
      "authorship_tag": "ABX9TyP/t+fs12wuGqgZuCXuQqxG",
      "include_colab_link": true
    },
    "kernelspec": {
      "name": "python3",
      "display_name": "Python 3"
    },
    "language_info": {
      "name": "python"
    }
  },
  "cells": [
    {
      "cell_type": "markdown",
      "metadata": {
        "id": "view-in-github",
        "colab_type": "text"
      },
      "source": [
        "<a href=\"https://colab.research.google.com/github/fernandonakagawa/Curso_Python_32h/blob/main/Curso_Python_32h_Aula05.ipynb\" target=\"_parent\"><img src=\"https://colab.research.google.com/assets/colab-badge.svg\" alt=\"Open In Colab\"/></a>"
      ]
    },
    {
      "cell_type": "markdown",
      "source": [
        "#Desafio 04"
      ],
      "metadata": {
        "id": "RnNOxsUP1ffj"
      }
    },
    {
      "cell_type": "code",
      "execution_count": 7,
      "metadata": {
        "colab": {
          "base_uri": "https://localhost:8080/"
        },
        "id": "pfyQ80sJziV5",
        "outputId": "d6f2aa7e-71e7-4970-eb80-6480aaa90ec1"
      },
      "outputs": [
        {
          "output_type": "stream",
          "name": "stdout",
          "text": [
            "['batata', 'jiló', 'feijão', 'macarrão', 'detergente']\n",
            "['batata', 'jiló', 'feijão', 'macarrão']\n",
            "['batata', 'jiló', 'feijão', 'macarrão', 'abacate']\n",
            "batata\n",
            "jiló\n",
            "feijão\n",
            "macarrão\n",
            "abacate\n",
            "batata\n",
            "jiló\n",
            "feijão\n",
            "macarrão\n",
            "abacate\n"
          ]
        }
      ],
      "source": [
        "#Considere a lista de compras de Joana e faça o que se pede:\n",
        "lista_de_compras = [\"batata\", \"arroz\", \"feijão\", \"macarrão\", \"detergente\"]\n",
        "len(lista_de_compras)\n",
        "lista_de_compras[1] = \"jiló\"\n",
        "print(lista_de_compras)\n",
        "#lista_de_compras.remove(\"detergente\")\n",
        "lista_de_compras.pop(4)\n",
        "print(lista_de_compras)\n",
        "lista_de_compras.append(\"abacate\")\n",
        "print(lista_de_compras)\n",
        "for item in lista_de_compras:\n",
        "  print(item)\n",
        "for i in range( len(lista_de_compras) ):\n",
        "  print(lista_de_compras[i])"
      ]
    },
    {
      "cell_type": "code",
      "source": [
        "\"\"\"\n",
        "Crie uma list de int vetB com tamanho 5, insira um inteiro com\n",
        "entrada do teclado para cada um dos elementos e mostre na tela os\n",
        "seus valores após a inserção dos elementos.\n",
        "\"\"\"\n",
        "vetB = []\n",
        "for i in range(5):\n",
        "  texto = \"Digite o número \" + str(i+1) + \": \"\n",
        "  vetB.append(int(input(texto)))\n",
        "print(vetB)"
      ],
      "metadata": {
        "colab": {
          "base_uri": "https://localhost:8080/"
        },
        "id": "356QSr9O1vLz",
        "outputId": "fca6f7c6-b5d8-4406-e867-3ca0c3eb660f"
      },
      "execution_count": 13,
      "outputs": [
        {
          "output_type": "stream",
          "name": "stdout",
          "text": [
            "Digite o número 1 :10\n",
            "Digite o número 2 :20\n",
            "Digite o número 3 :30\n",
            "Digite o número 4 :40\n",
            "Digite o número 5 :50\n",
            "[10, 20, 30, 40, 50]\n"
          ]
        }
      ]
    },
    {
      "cell_type": "code",
      "source": [
        "\"\"\"\n",
        "Crie uma list de int vetD com tamanho 50, atribua ao conteúdo de\n",
        "cada um de seus elementos o valor de seu índice e mostre o valor\n",
        "de cada um dos elementos na tela multiplicados por 2.\n",
        "\"\"\"\n",
        "vetD=[]\n",
        "for i in range(50):\n",
        "  vetD.append(i)\n",
        "for x in vetD:\n",
        "  print(x*2)"
      ],
      "metadata": {
        "colab": {
          "base_uri": "https://localhost:8080/"
        },
        "id": "_0Smbq-x4Eme",
        "outputId": "e3ec1c60-cb46-49ad-9d4e-3620bd573dca"
      },
      "execution_count": 14,
      "outputs": [
        {
          "output_type": "stream",
          "name": "stdout",
          "text": [
            "0\n",
            "2\n",
            "4\n",
            "6\n",
            "8\n",
            "10\n",
            "12\n",
            "14\n",
            "16\n",
            "18\n",
            "20\n",
            "22\n",
            "24\n",
            "26\n",
            "28\n",
            "30\n",
            "32\n",
            "34\n",
            "36\n",
            "38\n",
            "40\n",
            "42\n",
            "44\n",
            "46\n",
            "48\n",
            "50\n",
            "52\n",
            "54\n",
            "56\n",
            "58\n",
            "60\n",
            "62\n",
            "64\n",
            "66\n",
            "68\n",
            "70\n",
            "72\n",
            "74\n",
            "76\n",
            "78\n",
            "80\n",
            "82\n",
            "84\n",
            "86\n",
            "88\n",
            "90\n",
            "92\n",
            "94\n",
            "96\n",
            "98\n"
          ]
        }
      ]
    },
    {
      "cell_type": "code",
      "source": [
        "\"\"\"\n",
        "Crie uma tupla contendo todos os meses do ano e mostre qual mês\n",
        "corresponde ao índice 8.\n",
        "\"\"\"\n",
        "meses = (\"Jan\",\"Fev\",\"Mar\",\"Abr\",\"Mai\",\"Jun\",\"Jul\",\"Ago\",\"Set\",\"Out\",\"Nov\",\"Dez\")\n",
        "meses[8]"
      ],
      "metadata": {
        "colab": {
          "base_uri": "https://localhost:8080/",
          "height": 35
        },
        "id": "e--glj3W5O1X",
        "outputId": "1071d4b6-c6f4-437d-8757-c536b773bd3c"
      },
      "execution_count": 15,
      "outputs": [
        {
          "output_type": "execute_result",
          "data": {
            "text/plain": [
              "'Set'"
            ],
            "application/vnd.google.colaboratory.intrinsic+json": {
              "type": "string"
            }
          },
          "metadata": {},
          "execution_count": 15
        }
      ]
    },
    {
      "cell_type": "code",
      "source": [
        "\"\"\"Crie um set contendo as partes de um computador e depois adicione\n",
        "o item “memória RAM” e mostre o set na tela.\"\"\"\n",
        "computador = set([\"Processador\", \"Placa-mãe\", \"SSD\", \"Placa de vídeo\"])\n",
        "computador.add(\"Memória RAM\")\n",
        "computador"
      ],
      "metadata": {
        "colab": {
          "base_uri": "https://localhost:8080/"
        },
        "id": "oRtYTYWB5t0s",
        "outputId": "d555e251-0700-4cec-d957-121ec2ebe422"
      },
      "execution_count": 16,
      "outputs": [
        {
          "output_type": "execute_result",
          "data": {
            "text/plain": [
              "{'Memória RAM', 'Placa de vídeo', 'Placa-mãe', 'Processador', 'SSD'}"
            ]
          },
          "metadata": {},
          "execution_count": 16
        }
      ]
    },
    {
      "cell_type": "code",
      "source": [
        "\"\"\"Crie uma lista de int vetF com tamanho 100 e atribua aos índices\n",
        "pares um valor aleatório entre 0 e 100 e aos ímpares o valor de\n",
        "seu índice multiplicado por 2 e mostre seu valor na tela de cada\n",
        "um dos elementos.\"\"\"\n",
        "import random\n",
        "vetF = []\n",
        "for i in range(100):\n",
        "  if i % 2 == 0:\n",
        "    vetF.append(random.randrange(0,101))\n",
        "  else:\n",
        "    vetF.append(i*2)\n",
        "for x in vetF:\n",
        "  print(x)\n"
      ],
      "metadata": {
        "colab": {
          "base_uri": "https://localhost:8080/"
        },
        "id": "xMeuQ75c5_0i",
        "outputId": "f8d4c740-eb6e-4b38-df89-2900870b2914"
      },
      "execution_count": 18,
      "outputs": [
        {
          "output_type": "stream",
          "name": "stdout",
          "text": [
            "58\n",
            "2\n",
            "59\n",
            "6\n",
            "79\n",
            "10\n",
            "38\n",
            "14\n",
            "19\n",
            "18\n",
            "67\n",
            "22\n",
            "72\n",
            "26\n",
            "50\n",
            "30\n",
            "67\n",
            "34\n",
            "31\n",
            "38\n",
            "53\n",
            "42\n",
            "43\n",
            "46\n",
            "81\n",
            "50\n",
            "81\n",
            "54\n",
            "37\n",
            "58\n",
            "64\n",
            "62\n",
            "70\n",
            "66\n",
            "93\n",
            "70\n",
            "84\n",
            "74\n",
            "8\n",
            "78\n",
            "73\n",
            "82\n",
            "14\n",
            "86\n",
            "81\n",
            "90\n",
            "18\n",
            "94\n",
            "40\n",
            "98\n",
            "62\n",
            "102\n",
            "13\n",
            "106\n",
            "53\n",
            "110\n",
            "29\n",
            "114\n",
            "72\n",
            "118\n",
            "28\n",
            "122\n",
            "82\n",
            "126\n",
            "37\n",
            "130\n",
            "82\n",
            "134\n",
            "16\n",
            "138\n",
            "97\n",
            "142\n",
            "9\n",
            "146\n",
            "93\n",
            "150\n",
            "20\n",
            "154\n",
            "63\n",
            "158\n",
            "19\n",
            "162\n",
            "5\n",
            "166\n",
            "87\n",
            "170\n",
            "33\n",
            "174\n",
            "33\n",
            "178\n",
            "99\n",
            "182\n",
            "10\n",
            "186\n",
            "39\n",
            "190\n",
            "10\n",
            "194\n",
            "28\n",
            "198\n"
          ]
        }
      ]
    },
    {
      "cell_type": "code",
      "source": [
        "\"\"\"Crie um dicionário que guarde as seguintes informações de uma\n",
        "pessoa: nome, cpf, telefone e endereço.\"\"\"\n",
        "pessoa = {\n",
        "    \"nome\": \"Fernando\",\n",
        "    \"cpf\": \"12345678910\",\n",
        "    \"telefone\":\"(43)99999-9999\",\n",
        "    \"endereco\":\"Rua Laranjeiras 100\",\n",
        "}\n",
        "pessoa"
      ],
      "metadata": {
        "colab": {
          "base_uri": "https://localhost:8080/"
        },
        "id": "RSdzppmy7kFW",
        "outputId": "6ca99aa0-511d-48eb-80e0-171f1c6ca603"
      },
      "execution_count": 22,
      "outputs": [
        {
          "output_type": "execute_result",
          "data": {
            "text/plain": [
              "{'cpf': '12345678910',\n",
              " 'endereco': 'Rua Laranjeiras 100',\n",
              " 'nome': 'Fernando',\n",
              " 'telefone': '(43)99999-9999'}"
            ]
          },
          "metadata": {},
          "execution_count": 22
        }
      ]
    },
    {
      "cell_type": "code",
      "source": [
        "\"\"\"\n",
        "Crie uma lista de dicionários que guarde as seguintes informações\n",
        "de uma pessoa: nome, cpf, telefone e endereço.\"\"\"\n",
        "lista_pessoas = []\n",
        "lista_pessoas.append(pessoa)\n",
        "pessoa = {\n",
        "    \"nome\": \"Gabriel\",\n",
        "    \"cpf\": \"12345678911\",\n",
        "    \"telefone\":\"(43)99999-8888\",\n",
        "    \"endereco\":\"Rua Morangueira 200\",\n",
        "}\n",
        "lista_pessoas.append(pessoa)\n",
        "pessoa = {\n",
        "    \"nome\": \"Ana\",\n",
        "    \"cpf\": \"12345678912\",\n",
        "    \"telefone\":\"(43)99999-7777\",\n",
        "    \"endereco\":\"Rua Amoreira 300\",\n",
        "}\n",
        "lista_pessoas.append(pessoa)\n",
        "lista_pessoas"
      ],
      "metadata": {
        "colab": {
          "base_uri": "https://localhost:8080/"
        },
        "id": "qKnja6bv7Gk8",
        "outputId": "3971d523-db90-4fef-9ad9-445614cc8716"
      },
      "execution_count": 23,
      "outputs": [
        {
          "output_type": "execute_result",
          "data": {
            "text/plain": [
              "[{'cpf': '12345678910',\n",
              "  'endereco': 'Rua Laranjeiras 100',\n",
              "  'nome': 'Fernando',\n",
              "  'telefone': '(43)99999-9999'},\n",
              " {'cpf': '12345678911',\n",
              "  'endereco': 'Rua Morangueira 200',\n",
              "  'nome': 'Gabriel',\n",
              "  'telefone': '(43)99999-8888'},\n",
              " {'cpf': '12345678912',\n",
              "  'endereco': 'Rua Amoreira 300',\n",
              "  'nome': 'Ana',\n",
              "  'telefone': '(43)99999-7777'}]"
            ]
          },
          "metadata": {},
          "execution_count": 23
        }
      ]
    },
    {
      "cell_type": "code",
      "source": [
        "\"\"\"A partir do exercício anterior crie uma busca onde o usuário\n",
        "possa procurar uma pessoa por nome, cpf, telefone ou endereço.\"\"\"\n",
        "comando = 0\n",
        "while comando != 9:\n",
        "  print(\"Selecione o atributo de busca\\n\\\n",
        "        1 - Nome\\n\\\n",
        "        2 - Cpf\\n\\\n",
        "        3 - Telefone\\n\\\n",
        "        4 - Endereço\\n\\\n",
        "        9 - Sair\\n\")\n",
        "  comando = int(input(\"Digite o comando:\"))\n",
        "  comando_invalido = False\n",
        "  if comando != 9:\n",
        "    if comando == 1:\n",
        "      atributo = \"nome\"\n",
        "    elif comando == 2:\n",
        "      atributo = \"cpf\"\n",
        "    elif comando == 3:\n",
        "      atributo = \"telefone\"\n",
        "    elif comando == 4:\n",
        "      atributo = \"endereco\"\n",
        "    else:\n",
        "      print(\"Comando inválido.\")\n",
        "      comando_invalido = True\n",
        "    if comando_invalido == False:\n",
        "      numero_encontrados = 0\n",
        "      termo = input(\"Digite o termo de busca:\")\n",
        "      for pessoa in lista_pessoas:\n",
        "        if termo == pessoa[atributo]:\n",
        "          numero_encontrados += 1\n",
        "          for chave in pessoa:\n",
        "            print(chave, \":\", pessoa[chave])\n",
        "          print(\"-------------------\")\n",
        "      if numero_encontrados == 0:\n",
        "        print(\"Não foram encontrados registros.\")\n",
        "      else:\n",
        "        print(\"Registros encontrados: \", numero_encontrados)\n",
        "  else:\n",
        "    print(\"Até logo!\")"
      ],
      "metadata": {
        "colab": {
          "base_uri": "https://localhost:8080/"
        },
        "id": "wcPWZ0su8Ot5",
        "outputId": "3c5af1b1-0022-49b4-98c5-1db1ca032b77"
      },
      "execution_count": 28,
      "outputs": [
        {
          "output_type": "stream",
          "name": "stdout",
          "text": [
            "Selecione o atributo de busca\n",
            "        1 - Nome\n",
            "        2 - Cpf\n",
            "        3 - Telefone\n",
            "        4 - Endereço\n",
            "        9 - Sair\n",
            "\n",
            "Digite o comando:1\n",
            "Digite o termo de busca:Fernando\n",
            "nome : Fernando\n",
            "cpf : 12345678910\n",
            "telefone : (43)99999-9999\n",
            "endereco : Rua Laranjeiras 100\n",
            "-------------------\n",
            "Registros encontrados:  1\n",
            "Selecione o atributo de busca\n",
            "        1 - Nome\n",
            "        2 - Cpf\n",
            "        3 - Telefone\n",
            "        4 - Endereço\n",
            "        9 - Sair\n",
            "\n",
            "Digite o comando:1\n",
            "Digite o termo de busca:Alex\n",
            "Não foram encontrados registros.\n",
            "Selecione o atributo de busca\n",
            "        1 - Nome\n",
            "        2 - Cpf\n",
            "        3 - Telefone\n",
            "        4 - Endereço\n",
            "        9 - Sair\n",
            "\n",
            "Digite o comando:9\n",
            "Até logo!\n"
          ]
        }
      ]
    },
    {
      "cell_type": "code",
      "source": [
        "\"\"\"Crie uma lista de string vetI e atribua a cada um de seus\n",
        "elementos um nome com dados vindos do teclado.\"\"\"\n",
        "vetI = []\n",
        "vetI.append(\"Maria\")\n",
        "vetI.append(\"João\")\n",
        "vetI.append(\"Marcelo\")\n",
        "vetI.append(\"Henrique\")\n",
        "vetI.append(\"Maria\")\n",
        "\n",
        "sBusca = input(\"Digite o nome para a busca:\")\n",
        "for i in range( len(vetI) ):\n",
        "  if sBusca == vetI[i]:\n",
        "    print(i)"
      ],
      "metadata": {
        "colab": {
          "base_uri": "https://localhost:8080/"
        },
        "id": "GGk0VTNXCzoy",
        "outputId": "1330096d-5fec-4d21-bb46-b002a2aa0360"
      },
      "execution_count": 31,
      "outputs": [
        {
          "output_type": "stream",
          "name": "stdout",
          "text": [
            "Digite o nome para a busca:Marcelo\n",
            "2\n"
          ]
        }
      ]
    },
    {
      "cell_type": "markdown",
      "source": [
        "#Aula 05 - Funções\n"
      ],
      "metadata": {
        "id": "29URo3ViD5HD"
      }
    },
    {
      "cell_type": "code",
      "source": [
        "def dizer_oi():\n",
        "  print(\"oi\")"
      ],
      "metadata": {
        "id": "8DWeaCDf9gpS"
      },
      "execution_count": 32,
      "outputs": []
    },
    {
      "cell_type": "code",
      "source": [
        "dizer_oi()\n",
        "dizer_oi()"
      ],
      "metadata": {
        "colab": {
          "base_uri": "https://localhost:8080/"
        },
        "id": "ceq9Xo9DE3oy",
        "outputId": "1b149c40-0710-476b-f685-5aeaab95e800"
      },
      "execution_count": 34,
      "outputs": [
        {
          "output_type": "stream",
          "name": "stdout",
          "text": [
            "oi\n",
            "oi\n"
          ]
        }
      ]
    },
    {
      "cell_type": "code",
      "source": [
        "def escrever_numeros_pares():\n",
        "  for i in range(10):\n",
        "    if i % 2 == 0:\n",
        "      print(i)\n",
        "\n",
        "escrever_numeros_pares()\n"
      ],
      "metadata": {
        "colab": {
          "base_uri": "https://localhost:8080/"
        },
        "id": "xZ6LXwESE8TA",
        "outputId": "e62472a2-310e-47d5-f921-47ac858d10cc"
      },
      "execution_count": 37,
      "outputs": [
        {
          "output_type": "stream",
          "name": "stdout",
          "text": [
            "0\n",
            "2\n",
            "4\n",
            "6\n",
            "8\n"
          ]
        }
      ]
    },
    {
      "cell_type": "code",
      "source": [
        "def dizer_bom_dia(nome):\n",
        "  print(\"Bom dia,\", nome, \"!!!\")\n",
        "\n",
        "dizer_bom_dia(\"Elainy\")\n",
        "dizer_bom_dia(\"David\")\n",
        "#print(nome) nome não fica na memória"
      ],
      "metadata": {
        "colab": {
          "base_uri": "https://localhost:8080/"
        },
        "id": "MQ6l1RHmFfPi",
        "outputId": "f39c21e9-a8cc-421f-8f41-37eae86612a9"
      },
      "execution_count": 41,
      "outputs": [
        {
          "output_type": "stream",
          "name": "stdout",
          "text": [
            "Bom dia, Elainy !!!\n",
            "Bom dia, David !!!\n"
          ]
        }
      ]
    },
    {
      "cell_type": "code",
      "source": [
        "def escrever_numeros_impares(numero):\n",
        "  for i in range(numero):\n",
        "    if i % 2 == 1:\n",
        "      print(i)\n",
        "\n",
        "escrever_numeros_impares(16)\n"
      ],
      "metadata": {
        "colab": {
          "base_uri": "https://localhost:8080/"
        },
        "id": "5y6GqTznF_RJ",
        "outputId": "0a0c545d-ae3c-478b-aeda-036dc99a8e6f"
      },
      "execution_count": 48,
      "outputs": [
        {
          "output_type": "stream",
          "name": "stdout",
          "text": [
            "1\n",
            "3\n",
            "5\n",
            "7\n",
            "9\n",
            "11\n",
            "13\n",
            "15\n"
          ]
        }
      ]
    },
    {
      "cell_type": "code",
      "source": [
        "def escrever_numeros_impares(numero):\n",
        "  if type(numero) == int:\n",
        "    for i in range(numero):\n",
        "      if i % 2 == 1:\n",
        "        print(i)\n",
        "  else:\n",
        "    print(\"número precisa ser do tipo int\")\n",
        "\n",
        "escrever_numeros_impares(16)\n",
        "escrever_numeros_impares(\"Batata\")"
      ],
      "metadata": {
        "colab": {
          "base_uri": "https://localhost:8080/"
        },
        "id": "ij1fLmpGIF5r",
        "outputId": "e5476194-ed7b-4be9-bcb3-5ca1a043903c"
      },
      "execution_count": 49,
      "outputs": [
        {
          "output_type": "stream",
          "name": "stdout",
          "text": [
            "1\n",
            "3\n",
            "5\n",
            "7\n",
            "9\n",
            "11\n",
            "13\n",
            "15\n",
            "número precisa ser do tipo int\n"
          ]
        }
      ]
    },
    {
      "cell_type": "code",
      "source": [
        "def somar(n1 , n2):\n",
        "  print(n1+n2)\n",
        "\n",
        "somar(3,4)"
      ],
      "metadata": {
        "colab": {
          "base_uri": "https://localhost:8080/"
        },
        "id": "elNJEPlWGfDt",
        "outputId": "c1913a5c-f209-43f9-d219-736190226d63"
      },
      "execution_count": 50,
      "outputs": [
        {
          "output_type": "stream",
          "name": "stdout",
          "text": [
            "7\n"
          ]
        }
      ]
    },
    {
      "cell_type": "code",
      "source": [
        "def multiplicar(n1, n2):\n",
        "  resultado = n1 * n2\n",
        "  return resultado\n",
        "  #resultado = 0 nunca é executado\n",
        "\n",
        "x = multiplicar(3,4)\n",
        "print(x)\n",
        "print(multiplicar(2,3))"
      ],
      "metadata": {
        "colab": {
          "base_uri": "https://localhost:8080/"
        },
        "id": "j_UliowXImUT",
        "outputId": "b46cfc32-b40e-4810-9363-5d4ff8eb4bed"
      },
      "execution_count": 58,
      "outputs": [
        {
          "output_type": "stream",
          "name": "stdout",
          "text": [
            "12\n",
            "6\n"
          ]
        }
      ]
    },
    {
      "cell_type": "code",
      "source": [
        "def dizer_boa_noite(nome, quantidade = 1):\n",
        "  for i in range(quantidade):\n",
        "    print(\"Boa noite,\", nome)\n",
        "\n",
        "dizer_boa_noite(\"Vania\", 2)\n",
        "dizer_boa_noite(\"Ericka\")\n",
        "dizer_boa_noite(quantidade = 2, nome = \"Diego\")"
      ],
      "metadata": {
        "colab": {
          "base_uri": "https://localhost:8080/"
        },
        "id": "33qMmeudPU2L",
        "outputId": "731651c5-bb55-44fa-b582-d31deddcccc9"
      },
      "execution_count": 56,
      "outputs": [
        {
          "output_type": "stream",
          "name": "stdout",
          "text": [
            "Boa noite, Vania\n",
            "Boa noite, Vania\n",
            "Boa noite, Ericka\n",
            "Boa noite, Diego\n",
            "Boa noite, Diego\n"
          ]
        }
      ]
    },
    {
      "cell_type": "code",
      "source": [
        "def somar_e_multiplicar(n1, n2):\n",
        "  soma = n1 + n2\n",
        "  mult = n1 * n2\n",
        "  return soma, mult\n",
        "  #return [soma,mult]\n",
        "\n",
        "s, m = somar_e_multiplicar(3,4)\n",
        "#lista = somar_e_multiplicar(3,4)\n",
        "print(s,m)\n",
        "#print(lista)"
      ],
      "metadata": {
        "colab": {
          "base_uri": "https://localhost:8080/"
        },
        "id": "D61SaLBURA0_",
        "outputId": "508a2fff-3ec7-4660-a46e-063aa13d4596"
      },
      "execution_count": 57,
      "outputs": [
        {
          "output_type": "stream",
          "name": "stdout",
          "text": [
            "7 12\n"
          ]
        }
      ]
    },
    {
      "cell_type": "code",
      "source": [
        "def e_par(n):\n",
        "  if n % 2 == 0:\n",
        "    return True\n",
        "    #nada mais é executado\n",
        "  else:\n",
        "    return False\n",
        "    #nada mais é executado\n",
        "\n",
        "x = e_par(3)\n",
        "print(x)"
      ],
      "metadata": {
        "colab": {
          "base_uri": "https://localhost:8080/"
        },
        "id": "abspjvPPSVDM",
        "outputId": "15997f8d-2a8b-4858-f668-72b898a2b6e1"
      },
      "execution_count": 59,
      "outputs": [
        {
          "output_type": "stream",
          "name": "stdout",
          "text": [
            "False\n"
          ]
        }
      ]
    },
    {
      "cell_type": "markdown",
      "source": [
        "#Desafio 05"
      ],
      "metadata": {
        "id": "IVKXiRA8TrW9"
      }
    },
    {
      "cell_type": "code",
      "source": [
        "#Ler 3 valores e escrever o maior deles.\n",
        "def maior_de_3_valores(v1,v2,v3):\n",
        "  maior = v1\n",
        "  if v2 > maior:\n",
        "    maior = v2\n",
        "  if v3 > maior:\n",
        "    maior = v3\n",
        "  return maior\n",
        "\n",
        "v1 = int(input(\"Digite o primeiro número: \"))\n",
        "v2 = int(input(\"Digite o segundo número: \"))\n",
        "v3 = int(input(\"Digite o terceiro número: \"))\n",
        "\n",
        "print(\"O maior número é \", maior_de_3_valores(v1,v2,v3))\n",
        "print(\"O maior número é \", maior_de_3_valores(5,6,8))"
      ],
      "metadata": {
        "colab": {
          "base_uri": "https://localhost:8080/"
        },
        "id": "YsXoWk54TbBC",
        "outputId": "c255e6c3-5b7e-49ac-c3a0-eb821d9a1a26"
      },
      "execution_count": 61,
      "outputs": [
        {
          "output_type": "stream",
          "name": "stdout",
          "text": [
            "Digite o primeiro número: 2\n",
            "Digite o segundo número: 3\n",
            "Digite o terceiro número: 4\n",
            "O maior número é  4\n",
            "O maior número é  8\n"
          ]
        }
      ]
    },
    {
      "cell_type": "code",
      "source": [
        "\"\"\"leia do teclado uma distância em metros e mostre na tela o\n",
        "seu valor convertido em quilômetros.(Valores inválidos:\n",
        "números negativos).\"\"\"\n",
        "def metros_para_km():\n",
        "  metros = float(input(\"Digite o valor em metros:\"))\n",
        "  km = metros / 1000\n",
        "  print(km)\n",
        "\n",
        "metros_para_km()"
      ],
      "metadata": {
        "colab": {
          "base_uri": "https://localhost:8080/"
        },
        "id": "9Q9n6tRvVLKz",
        "outputId": "91069d2f-6580-45f9-8c7a-029365da434f"
      },
      "execution_count": 63,
      "outputs": [
        {
          "output_type": "stream",
          "name": "stdout",
          "text": [
            "Digite o valor em metros:2500\n",
            "2.5\n"
          ]
        }
      ]
    },
    {
      "cell_type": "code",
      "source": [
        "def metros_para_km_com_retorno(metros):\n",
        "  km = metros / 1000\n",
        "  return km\n",
        "\n",
        "m = float(input(\"Digite o valor em metros:\"))\n",
        "km = metros_para_km_com_retorno(m)\n",
        "print(km)\n",
        "print(metros_para_km_com_retorno(3000))"
      ],
      "metadata": {
        "colab": {
          "base_uri": "https://localhost:8080/"
        },
        "id": "JdxqYXywWQTf",
        "outputId": "cd12f32e-df11-446a-9c7f-c61a43193315"
      },
      "execution_count": 65,
      "outputs": [
        {
          "output_type": "stream",
          "name": "stdout",
          "text": [
            "Digite o valor em metros:2500\n",
            "2.5\n",
            "3.0\n"
          ]
        }
      ]
    },
    {
      "cell_type": "code",
      "source": [
        "\"\"\"A partir do exercício anterior crie uma busca onde o usuário\n",
        "possa procurar uma pessoa por nome, cpf, telefone ou endereço.\"\"\"\n",
        "\n",
        "def exibir_menu():\n",
        "  print(\"Selecione o atributo de busca\\n\\\n",
        "        1 - Nome\\n\\\n",
        "        2 - Cpf\\n\\\n",
        "        3 - Telefone\\n\\\n",
        "        4 - Endereço\\n\\\n",
        "        9 - Sair\\n\")\n",
        "  comando = int(input(\"Digite o comando:\"))\n",
        "  return comando\n",
        "  \n",
        "def buscar(lista_pessoas, termo, atributo):\n",
        "  numero_encontrados = 0\n",
        "  for pessoa in lista_pessoas:\n",
        "    if termo == pessoa[atributo]:\n",
        "      numero_encontrados += 1\n",
        "      for chave in pessoa:\n",
        "        print(chave, \":\", pessoa[chave])\n",
        "      print(\"-------------------\")\n",
        "  return numero_encontrados\n",
        "\n",
        "def mostrar_encontrados(numero_encontrados):\n",
        "  if numero_encontrados == 0:\n",
        "    print(\"Não foram encontrados registros.\")\n",
        "  else:\n",
        "    print(\"Registros encontrados: \", numero_encontrados)\n",
        "\n",
        "def definir_comando(comando):\n",
        "  comando_invalido = False\n",
        "  if comando != 9:\n",
        "    if comando == 1:\n",
        "      atributo = \"nome\"\n",
        "    elif comando == 2:\n",
        "      atributo = \"cpf\"\n",
        "    elif comando == 3:\n",
        "      atributo = \"telefone\"\n",
        "    elif comando == 4:\n",
        "      atributo = \"endereco\"\n",
        "    else:\n",
        "      print(\"Comando inválido.\")\n",
        "      comando_invalido = True\n",
        "      return comando_invalido\n",
        "    if comando_invalido == False:\n",
        "      return atributo\n",
        "  return comando\n",
        "\n",
        "comando = 0\n",
        "while comando != 9:\n",
        "  comando = exibir_menu()\n",
        "  comando = definir_comando(comando)\n",
        "  if type(comando) != int:\n",
        "    if type(comando) != bool:\n",
        "      atributo = comando\n",
        "      termo = input(\"Digite o termo de busca:\")\n",
        "      numero_encontrados = buscar(lista_pessoas, termo, atributo)\n",
        "      mostrar_encontrados(numero_encontrados)\n",
        "  else:\n",
        "    print(\"Até logo!\")"
      ],
      "metadata": {
        "colab": {
          "base_uri": "https://localhost:8080/"
        },
        "id": "faj_4JkpWsA9",
        "outputId": "99701bb7-3476-4ac1-a1ba-72f48c60a0e3"
      },
      "execution_count": 67,
      "outputs": [
        {
          "output_type": "stream",
          "name": "stdout",
          "text": [
            "Selecione o atributo de busca\n",
            "        1 - Nome\n",
            "        2 - Cpf\n",
            "        3 - Telefone\n",
            "        4 - Endereço\n",
            "        9 - Sair\n",
            "\n",
            "Digite o comando:6\n",
            "Comando inválido.\n",
            "Selecione o atributo de busca\n",
            "        1 - Nome\n",
            "        2 - Cpf\n",
            "        3 - Telefone\n",
            "        4 - Endereço\n",
            "        9 - Sair\n",
            "\n",
            "Digite o comando:1\n",
            "Digite o termo de busca:Fernando\n",
            "nome : Fernando\n",
            "cpf : 12345678910\n",
            "telefone : (43)99999-9999\n",
            "endereco : Rua Laranjeiras 100\n",
            "-------------------\n",
            "Registros encontrados:  1\n",
            "Selecione o atributo de busca\n",
            "        1 - Nome\n",
            "        2 - Cpf\n",
            "        3 - Telefone\n",
            "        4 - Endereço\n",
            "        9 - Sair\n",
            "\n",
            "Digite o comando:2\n",
            "Digite o termo de busca:12345678912\n",
            "nome : Ana\n",
            "cpf : 12345678912\n",
            "telefone : (43)99999-7777\n",
            "endereco : Rua Amoreira 300\n",
            "-------------------\n",
            "Registros encontrados:  1\n",
            "Selecione o atributo de busca\n",
            "        1 - Nome\n",
            "        2 - Cpf\n",
            "        3 - Telefone\n",
            "        4 - Endereço\n",
            "        9 - Sair\n",
            "\n",
            "Digite o comando:3\n",
            "Digite o termo de busca:23423423\n",
            "Não foram encontrados registros.\n",
            "Selecione o atributo de busca\n",
            "        1 - Nome\n",
            "        2 - Cpf\n",
            "        3 - Telefone\n",
            "        4 - Endereço\n",
            "        9 - Sair\n",
            "\n",
            "Digite o comando:4\n",
            "Digite o termo de busca:Rua Laranjeiras 100\n",
            "nome : Fernando\n",
            "cpf : 12345678910\n",
            "telefone : (43)99999-9999\n",
            "endereco : Rua Laranjeiras 100\n",
            "-------------------\n",
            "Registros encontrados:  1\n",
            "Selecione o atributo de busca\n",
            "        1 - Nome\n",
            "        2 - Cpf\n",
            "        3 - Telefone\n",
            "        4 - Endereço\n",
            "        9 - Sair\n",
            "\n",
            "Digite o comando:9\n",
            "Até logo!\n"
          ]
        }
      ]
    }
  ]
}