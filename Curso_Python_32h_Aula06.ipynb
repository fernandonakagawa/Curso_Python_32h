{
  "nbformat": 4,
  "nbformat_minor": 0,
  "metadata": {
    "colab": {
      "name": "Curso_Python_32h_Aula06.ipynb",
      "provenance": [],
      "collapsed_sections": [],
      "authorship_tag": "ABX9TyMp4VII8X4AQSym0uSCJELI",
      "include_colab_link": true
    },
    "kernelspec": {
      "name": "python3",
      "display_name": "Python 3"
    },
    "language_info": {
      "name": "python"
    }
  },
  "cells": [
    {
      "cell_type": "markdown",
      "metadata": {
        "id": "view-in-github",
        "colab_type": "text"
      },
      "source": [
        "<a href=\"https://colab.research.google.com/github/fernandonakagawa/Curso_Python_32h/blob/main/Curso_Python_32h_Aula06.ipynb\" target=\"_parent\"><img src=\"https://colab.research.google.com/assets/colab-badge.svg\" alt=\"Open In Colab\"/></a>"
      ]
    },
    {
      "cell_type": "markdown",
      "source": [
        "#Desafio 05"
      ],
      "metadata": {
        "id": "j2Oy3kLlwWtG"
      }
    },
    {
      "cell_type": "code",
      "source": [
        "\"\"\"leia do teclado as dimensões de um retângulo (base e\n",
        "altura), calcular e escrever a área do retângulo. (Valores\n",
        "inválidos: 0 e números negativos).\"\"\"\n",
        "\n",
        "def area_retangulo(base, altura):\n",
        "  area = base * altura\n",
        "  return area\n",
        "\n",
        "base = float(input(\"Digite o valor da base:\"))\n",
        "while base <= 0:\n",
        "  base = float(input(\"Valor inválido. Digite o valor da base:\"))\n",
        "altura = float(input(\"Digite o valor da altura:\"))\n",
        "while altura <= 0:\n",
        "  altura = float(input(\"Valor inválido. Digite o valor da altura:\"))\n",
        "\n",
        "a = area_retangulo(base, altura)\n",
        "\n",
        "print(\"O valor da área é de:\", a)"
      ],
      "metadata": {
        "colab": {
          "base_uri": "https://localhost:8080/"
        },
        "id": "SXIlHt8VwZac",
        "outputId": "b48c8e82-e0a9-456b-b19b-4bde2c405175"
      },
      "execution_count": 3,
      "outputs": [
        {
          "output_type": "stream",
          "name": "stdout",
          "text": [
            "Digite o valor da base:2\n",
            "Digite o valor da altura:3\n",
            "O valor da área é de: None\n"
          ]
        }
      ]
    },
    {
      "cell_type": "code",
      "source": [
        "def area_retangulo_completo():\n",
        "  base = float(input(\"Digite o valor da base:\"))\n",
        "  while base <= 0:\n",
        "    base = float(input(\"Valor inválido. Digite o valor da base:\"))\n",
        "  altura = float(input(\"Digite o valor da altura:\"))\n",
        "  while altura <= 0:\n",
        "    altura = float(input(\"Valor inválido. Digite o valor da altura:\"))\n",
        "  area = base * altura\n",
        "  print(\"O valor da área é de:\", area)\n",
        "\n",
        "area_retangulo_completo()"
      ],
      "metadata": {
        "colab": {
          "base_uri": "https://localhost:8080/"
        },
        "id": "HSk-DAIuwZ14",
        "outputId": "c704f228-15b4-4aa8-dd05-db14d92e40f0"
      },
      "execution_count": 4,
      "outputs": [
        {
          "output_type": "stream",
          "name": "stdout",
          "text": [
            "Digite o valor da base:-1\n",
            "Valor inválido. Digite o valor da base:0\n",
            "Valor inválido. Digite o valor da base:3\n",
            "Digite o valor da altura:2\n",
            "O valor da área é de: 6.0\n"
          ]
        }
      ]
    },
    {
      "cell_type": "code",
      "source": [
        "def area_retangulo_retorno():\n",
        "  base = float(input(\"Digite o valor da base:\"))\n",
        "  while base <= 0:\n",
        "    base = float(input(\"Valor inválido. Digite o valor da base:\"))\n",
        "  altura = float(input(\"Digite o valor da altura:\"))\n",
        "  while altura <= 0:\n",
        "    altura = float(input(\"Valor inválido. Digite o valor da altura:\"))\n",
        "  area = base * altura\n",
        "  return area\n",
        "\n",
        "area = area_retangulo_retorno()\n",
        "print(\"O valor da área é de:\", area)"
      ],
      "metadata": {
        "colab": {
          "base_uri": "https://localhost:8080/"
        },
        "id": "qmm4T62wwZ-Q",
        "outputId": "edfecab3-a65d-4e3b-9bdf-947c400901f1"
      },
      "execution_count": 5,
      "outputs": [
        {
          "output_type": "stream",
          "name": "stdout",
          "text": [
            "Digite o valor da base:4\n",
            "Digite o valor da altura:5\n",
            "O valor da área é de: 20.0\n"
          ]
        }
      ]
    },
    {
      "cell_type": "code",
      "source": [
        ""
      ],
      "metadata": {
        "id": "qrteGREJwaKs"
      },
      "execution_count": null,
      "outputs": []
    },
    {
      "cell_type": "code",
      "source": [
        ""
      ],
      "metadata": {
        "id": "pKDcC6FqwajC"
      },
      "execution_count": null,
      "outputs": []
    },
    {
      "cell_type": "code",
      "source": [
        ""
      ],
      "metadata": {
        "id": "grl_zNh6wamd"
      },
      "execution_count": null,
      "outputs": []
    },
    {
      "cell_type": "code",
      "source": [
        ""
      ],
      "metadata": {
        "id": "jOpEHBXjwarb"
      },
      "execution_count": null,
      "outputs": []
    },
    {
      "cell_type": "code",
      "source": [
        ""
      ],
      "metadata": {
        "id": "0YZ7hKodwaxW"
      },
      "execution_count": null,
      "outputs": []
    },
    {
      "cell_type": "markdown",
      "source": [
        "#Orientação a objetos\n",
        "\n",
        "Modelar sistemas utilizando objetos - conjunto de componentes autocontido\n",
        "\n",
        "Um objeto tem comportamento e características\n",
        "\n",
        "Linguagens que iniciaram a POO\n",
        "- Simula 67 - década de 60\n",
        "- SmallTalk - década de 70\n",
        "- C++ - década de 80\n"
      ],
      "metadata": {
        "id": "72edwOkCrfwq"
      }
    },
    {
      "cell_type": "code",
      "execution_count": null,
      "metadata": {
        "id": "xVtPHfoGqq6_"
      },
      "outputs": [],
      "source": [
        ""
      ]
    }
  ]
}