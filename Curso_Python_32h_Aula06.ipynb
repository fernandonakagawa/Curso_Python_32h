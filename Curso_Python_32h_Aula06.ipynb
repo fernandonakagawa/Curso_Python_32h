{
  "nbformat": 4,
  "nbformat_minor": 0,
  "metadata": {
    "colab": {
      "name": "Curso_Python_32h_Aula06.ipynb",
      "provenance": [],
      "collapsed_sections": [],
      "authorship_tag": "ABX9TyMhYvdHKq8uUyQCxmxOBVjx",
      "include_colab_link": true
    },
    "kernelspec": {
      "name": "python3",
      "display_name": "Python 3"
    },
    "language_info": {
      "name": "python"
    }
  },
  "cells": [
    {
      "cell_type": "markdown",
      "metadata": {
        "id": "view-in-github",
        "colab_type": "text"
      },
      "source": [
        "<a href=\"https://colab.research.google.com/github/fernandonakagawa/Curso_Python_32h/blob/main/Curso_Python_32h_Aula06.ipynb\" target=\"_parent\"><img src=\"https://colab.research.google.com/assets/colab-badge.svg\" alt=\"Open In Colab\"/></a>"
      ]
    },
    {
      "cell_type": "markdown",
      "source": [
        "#Desafio 05"
      ],
      "metadata": {
        "id": "j2Oy3kLlwWtG"
      }
    },
    {
      "cell_type": "code",
      "source": [
        "\"\"\"leia do teclado as dimensões de um retângulo (base e\n",
        "altura), calcular e escrever a área do retângulo. (Valores\n",
        "inválidos: 0 e números negativos).\"\"\"\n",
        "\n",
        "def area_retangulo(base, altura):\n",
        "  area = base * altura\n",
        "  return area\n",
        "\n",
        "base = float(input(\"Digite o valor da base:\"))\n",
        "while base <= 0:\n",
        "  base = float(input(\"Valor inválido. Digite o valor da base:\"))\n",
        "altura = float(input(\"Digite o valor da altura:\"))\n",
        "while altura <= 0:\n",
        "  altura = float(input(\"Valor inválido. Digite o valor da altura:\"))\n",
        "\n",
        "a = area_retangulo(base, altura)\n",
        "\n",
        "print(\"O valor da área é de:\", a)"
      ],
      "metadata": {
        "colab": {
          "base_uri": "https://localhost:8080/"
        },
        "id": "SXIlHt8VwZac",
        "outputId": "b48c8e82-e0a9-456b-b19b-4bde2c405175"
      },
      "execution_count": 3,
      "outputs": [
        {
          "output_type": "stream",
          "name": "stdout",
          "text": [
            "Digite o valor da base:2\n",
            "Digite o valor da altura:3\n",
            "O valor da área é de: None\n"
          ]
        }
      ]
    },
    {
      "cell_type": "code",
      "source": [
        "def area_retangulo_completo():\n",
        "  base = float(input(\"Digite o valor da base:\"))\n",
        "  while base <= 0:\n",
        "    base = float(input(\"Valor inválido. Digite o valor da base:\"))\n",
        "  altura = float(input(\"Digite o valor da altura:\"))\n",
        "  while altura <= 0:\n",
        "    altura = float(input(\"Valor inválido. Digite o valor da altura:\"))\n",
        "  area = base * altura\n",
        "  print(\"O valor da área é de:\", area)\n",
        "\n",
        "area_retangulo_completo()"
      ],
      "metadata": {
        "colab": {
          "base_uri": "https://localhost:8080/"
        },
        "id": "HSk-DAIuwZ14",
        "outputId": "c704f228-15b4-4aa8-dd05-db14d92e40f0"
      },
      "execution_count": 4,
      "outputs": [
        {
          "output_type": "stream",
          "name": "stdout",
          "text": [
            "Digite o valor da base:-1\n",
            "Valor inválido. Digite o valor da base:0\n",
            "Valor inválido. Digite o valor da base:3\n",
            "Digite o valor da altura:2\n",
            "O valor da área é de: 6.0\n"
          ]
        }
      ]
    },
    {
      "cell_type": "code",
      "source": [
        "def area_retangulo_retorno():\n",
        "  base = float(input(\"Digite o valor da base:\"))\n",
        "  while base <= 0:\n",
        "    base = float(input(\"Valor inválido. Digite o valor da base:\"))\n",
        "  altura = float(input(\"Digite o valor da altura:\"))\n",
        "  while altura <= 0:\n",
        "    altura = float(input(\"Valor inválido. Digite o valor da altura:\"))\n",
        "  area = base * altura\n",
        "  return area\n",
        "\n",
        "area = area_retangulo_retorno()\n",
        "print(\"O valor da área é de:\", area)"
      ],
      "metadata": {
        "colab": {
          "base_uri": "https://localhost:8080/"
        },
        "id": "qmm4T62wwZ-Q",
        "outputId": "edfecab3-a65d-4e3b-9bdf-947c400901f1"
      },
      "execution_count": 5,
      "outputs": [
        {
          "output_type": "stream",
          "name": "stdout",
          "text": [
            "Digite o valor da base:4\n",
            "Digite o valor da altura:5\n",
            "O valor da área é de: 20.0\n"
          ]
        }
      ]
    },
    {
      "cell_type": "code",
      "source": [
        "#Crie um vetor de int vetA com tamanho 5 e mostre na tela os\n",
        "#valores de seus elementos;\n",
        "\n",
        "def mostrar_vet(vet):\n",
        "  for x in vet:\n",
        "    print(x)\n",
        "\n",
        "vetA = [10,20,30,40,50]\n",
        "mostrar_vet(vetA)"
      ],
      "metadata": {
        "colab": {
          "base_uri": "https://localhost:8080/"
        },
        "id": "qrteGREJwaKs",
        "outputId": "7811cd2d-d2c6-43f9-8904-ba4bc82b0c87"
      },
      "execution_count": 6,
      "outputs": [
        {
          "output_type": "stream",
          "name": "stdout",
          "text": [
            "10\n",
            "20\n",
            "30\n",
            "40\n",
            "50\n"
          ]
        }
      ]
    },
    {
      "cell_type": "code",
      "source": [
        "\"\"\"receba 5 números por parâmetro e retorne uma lista com estes\n",
        "números em ordem crescente.\"\"\"\n",
        "def criar_lista_ordem_crescente(n1,n2,n3,n4,n5):\n",
        "  lista = [n1,n2,n3,n4,n5]\n",
        "  lista.sort()\n",
        "  return lista\n",
        "\n",
        "print(criar_lista_ordem_crescente(2,4,7,5,1))"
      ],
      "metadata": {
        "colab": {
          "base_uri": "https://localhost:8080/"
        },
        "id": "pKDcC6FqwajC",
        "outputId": "4ec598b4-136f-4e37-df85-f1fae92260b1"
      },
      "execution_count": 8,
      "outputs": [
        {
          "output_type": "stream",
          "name": "stdout",
          "text": [
            "[1, 2, 4, 5, 7]\n"
          ]
        }
      ]
    },
    {
      "cell_type": "code",
      "source": [
        "#receba um float e retorne o seu dobro\n",
        "def dobrar(n):\n",
        "  return n*2\n",
        "print(dobrar(3.2))\n",
        "print(dobrar(float(input(\"Digite um número real:\"))))\n",
        "numero = 2.1\n",
        "print(dobrar(numero))"
      ],
      "metadata": {
        "colab": {
          "base_uri": "https://localhost:8080/"
        },
        "id": "grl_zNh6wamd",
        "outputId": "8dd90bd5-722a-4a19-d847-704478465dbc"
      },
      "execution_count": 10,
      "outputs": [
        {
          "output_type": "stream",
          "name": "stdout",
          "text": [
            "6.4\n",
            "Digite um número real:1.2\n",
            "2.4\n"
          ]
        }
      ]
    },
    {
      "cell_type": "code",
      "source": [
        "\"\"\"receba dois floats. O primeiro parâmetro deve ser chamado de\n",
        "valorEmReal e o segundo parâmetro deve ser chamado juros.\n",
        "Retornar o valorEmReal acrescido da taxa de juros.\"\"\"\n",
        "def calcular_juros(valorEmReal, juros):\n",
        "  return valorEmReal + valorEmReal*juros\n",
        "\n",
        "print(calcular_juros(100, 0.02))"
      ],
      "metadata": {
        "colab": {
          "base_uri": "https://localhost:8080/"
        },
        "id": "jOpEHBXjwarb",
        "outputId": "526f88cf-fb11-4830-c392-7a53b1329943"
      },
      "execution_count": 11,
      "outputs": [
        {
          "output_type": "stream",
          "name": "stdout",
          "text": [
            "102.0\n"
          ]
        }
      ]
    },
    {
      "cell_type": "code",
      "source": [
        "\"\"\"Maçãs verdes custam R$ 12,20 por quilo. Cada uma pesa em torno de\n",
        "130g. Faça um programa que tenha como entrada a quantidade de\n",
        "maçãs e mostre o valor em reais.\"\"\"\n",
        "def calcular_macas(quantidade):\n",
        "  preco_kg = 12.20\n",
        "  peso_maca = 0.130\n",
        "  print(quantidade*peso_maca*preco_kg)\n",
        "\n",
        "quantidade_macas = int(input(\"Digite o número de maçãs:\"))\n",
        "calcular_macas(quantidade_macas)"
      ],
      "metadata": {
        "colab": {
          "base_uri": "https://localhost:8080/"
        },
        "id": "-ph7dm2hDJte",
        "outputId": "b68fb47e-a74e-4bc9-d6c3-805e25ba0440"
      },
      "execution_count": 12,
      "outputs": [
        {
          "output_type": "stream",
          "name": "stdout",
          "text": [
            "Digite o número de maçãs:3\n",
            "4.758\n"
          ]
        }
      ]
    },
    {
      "cell_type": "code",
      "source": [
        "\"\"\"A jornada de trabalho mensal de um funcionário na empresa X é de\n",
        "160 horas. O funcionário que trabalhar mais de 160 horas receberá\n",
        "hora extra, cujo cálculo é o valor da hora regular com um\n",
        "acréscimo de 50%. Escreva um algoritmo que leia o número de horas\n",
        "trabalhadas em um mês, o salário por hora e escreva o salário\n",
        "total do funcionário, que deverá ser acrescido das horas extras,\n",
        "caso tenham sido trabalhadas.\"\"\"\n",
        "horas = int(input(\"Digite o número de horas: \"))\n",
        "salario_hora = float(input(\"Digite o valor da hora: \"))\n",
        "\n",
        "def calcular_salario(horas, salario_hora):\n",
        "  if horas > 160:\n",
        "    salario = 160*salario_hora + (horas-160)*salario_hora*1.5\n",
        "  else:\n",
        "    salario = horas * salario_hora\n",
        "  return salario\n",
        "\n",
        "sal = calcular_salario(horas,salario_hora)\n",
        "print(\"O valor do salário é de R$\", sal)"
      ],
      "metadata": {
        "colab": {
          "base_uri": "https://localhost:8080/"
        },
        "id": "1gYljyj_DKAu",
        "outputId": "15ef63d9-33d1-4abd-8290-9747a882e563"
      },
      "execution_count": 13,
      "outputs": [
        {
          "output_type": "stream",
          "name": "stdout",
          "text": [
            "Digite o número de horas: 170\n",
            "Digite o valor da hora: 10\n",
            "O valor do salário é de R$ 1750.0\n"
          ]
        }
      ]
    },
    {
      "cell_type": "code",
      "source": [
        "#receba um inteiro e retorne se ele é primo ou não.\n",
        "def e_primo(n):\n",
        "  primo = True\n",
        "  for i in range(2,int(n/2)):\n",
        "    if n % i == 0:\n",
        "      primo = False\n",
        "      break\n",
        "  return primo\n",
        "\n",
        "num = 23\n",
        "print(num, e_primo(num))\n"
      ],
      "metadata": {
        "colab": {
          "base_uri": "https://localhost:8080/"
        },
        "id": "246A4LlEGLrB",
        "outputId": "7b4f0cd3-493e-46d2-cd7c-3c1407ddfba2"
      },
      "execution_count": 25,
      "outputs": [
        {
          "output_type": "stream",
          "name": "stdout",
          "text": [
            "23 True\n"
          ]
        }
      ]
    },
    {
      "cell_type": "code",
      "source": [
        "#receba um inteiro e retorne se ele é quadrado ou não;\n",
        "\"\"\"\n",
        "ooo\n",
        "ooo\n",
        "ooo\n",
        "\"\"\"\n",
        "import math\n",
        "def e_quadrado(n):\n",
        "  raiz = math.sqrt(n)\n",
        "  if raiz == int(raiz):\n",
        "    return True\n",
        "  return False\n",
        "\n",
        "print(e_quadrado(16))"
      ],
      "metadata": {
        "colab": {
          "base_uri": "https://localhost:8080/"
        },
        "id": "7wx-uP-CDKPN",
        "outputId": "a024920b-e738-45de-fefd-ee7ae7b754e2"
      },
      "execution_count": 28,
      "outputs": [
        {
          "output_type": "stream",
          "name": "stdout",
          "text": [
            "True\n"
          ]
        }
      ]
    },
    {
      "cell_type": "code",
      "source": [
        "\"\"\"Que calcule juros compostos depositados numa conta de poupança.\n",
        "Receba dois floats e um inteiro. O primeiro parâmetro é o valor\n",
        "depositado (float), o segundo deve ser o valor dos juros (float e\n",
        "o terceiro deve ser a quantidade de meses que o dinheiro ficará\n",
        "na poupança (int). Calcule os juros compostos e retorne o valor\n",
        "atualizado.\"\"\"\n",
        "\n",
        "def calcular_juros_compostos(valor, juros, meses):\n",
        "  for i in range(meses):\n",
        "    valor += valor*juros\n",
        "  return valor\n",
        "\n",
        "print(calcular_juros_compostos(1000, 0.01, 12))"
      ],
      "metadata": {
        "colab": {
          "base_uri": "https://localhost:8080/"
        },
        "id": "d3Lj5gpiJNKE",
        "outputId": "dbea4a5a-1516-420d-988f-e1cf42bbe925"
      },
      "execution_count": 30,
      "outputs": [
        {
          "output_type": "stream",
          "name": "stdout",
          "text": [
            "1126.8250301319695\n"
          ]
        }
      ]
    },
    {
      "cell_type": "code",
      "source": [
        "\"\"\"crie uma função recursiva chamada jurosCompostos. Ela deve chamar\n",
        "ela mesma e calcular o valor de juros compostos com base no\n",
        "valor, juros e quantidade de meses. Dica: a função se chama\n",
        "recursivamente com a mesma quantidade de meses.\"\"\"\n",
        "def calcular_juros_compostos_recursivo(valor, juros, meses):\n",
        "  #print(valor, meses)\n",
        "  if meses < 1:\n",
        "    return valor\n",
        "  valor = calcular_juros_compostos_recursivo(valor + valor * juros, juros, meses-1)\n",
        "  return valor\n",
        "\n",
        "print(calcular_juros_compostos_recursivo(1000, 0.01, 12))\n",
        "#stack overflow\n",
        "#é lotar a pilha de funções"
      ],
      "metadata": {
        "colab": {
          "base_uri": "https://localhost:8080/"
        },
        "id": "0YZ7hKodwaxW",
        "outputId": "f625bd81-9779-4967-dd57-148fd65f039d"
      },
      "execution_count": 39,
      "outputs": [
        {
          "output_type": "stream",
          "name": "stdout",
          "text": [
            "1126.8250301319695\n"
          ]
        }
      ]
    },
    {
      "cell_type": "code",
      "source": [
        "\"\"\"receba por parâmetro uma String e mostre no console a mensagem\n",
        "com uma moldura. A moldura deve acompanhar o tamanho do texto.\"\"\"\n",
        "def criar_moldura(texto):\n",
        "  linha = \"*\"\n",
        "  for i in range( len(texto)+2 ):\n",
        "    linha += \"-\"\n",
        "  linha += \"*\"\n",
        "  print(linha)\n",
        "  print(\"|\", texto,\"|\")\n",
        "  print(linha)\n",
        "\n",
        "criar_moldura(\"Bom dia!\")\n",
        "criar_moldura(\"William\")\n",
        "criar_moldura(\"Fernando Nakagawa\")"
      ],
      "metadata": {
        "colab": {
          "base_uri": "https://localhost:8080/"
        },
        "id": "izMjQopgJ5iZ",
        "outputId": "41d10550-7a50-4fbf-d6a3-10fc4a6e7823"
      },
      "execution_count": 43,
      "outputs": [
        {
          "output_type": "stream",
          "name": "stdout",
          "text": [
            "*----------*\n",
            "| Bom dia! |\n",
            "*----------*\n",
            "*---------*\n",
            "| William |\n",
            "*---------*\n",
            "*-------------------*\n",
            "| Fernando Nakagawa |\n",
            "*-------------------*\n"
          ]
        }
      ]
    },
    {
      "cell_type": "code",
      "source": [
        "#receba dois vetores e retorne um vetor com a sua concatenação\n",
        "def concatena_vetor(vet1, vet2):\n",
        "  #return vet1 + vet2\n",
        "  vet1.extend(vet2)\n",
        "  return vet1\n",
        "\n",
        "v1 = [1,2,3]\n",
        "v2 = [4,5,6]\n",
        "print(concatena_vetor(v1,v2))"
      ],
      "metadata": {
        "colab": {
          "base_uri": "https://localhost:8080/"
        },
        "id": "5NK8wIJEM3bf",
        "outputId": "14dcb3a7-af50-4a03-e4bf-703648e600d1"
      },
      "execution_count": 46,
      "outputs": [
        {
          "output_type": "stream",
          "name": "stdout",
          "text": [
            "[1, 2, 3, 4, 5, 6]\n"
          ]
        }
      ]
    },
    {
      "cell_type": "code",
      "source": [
        ""
      ],
      "metadata": {
        "id": "yvSjr5NPM32x"
      },
      "execution_count": null,
      "outputs": []
    },
    {
      "cell_type": "markdown",
      "source": [
        "#Orientação a objetos\n",
        "\n",
        "É um paradigma de programação em que o seu foco não está nos procedimentos do ambiente, mas sim nos seus objetos existentes. É um ponto de vista diferente, uma nova forma de descrever um ponto de vista nos sistemas.\n",
        "\n",
        "Modelar sistemas utilizando objetos - conjunto de componentes autocontido\n",
        "\n",
        "Um objeto tem comportamento e características\n",
        "\n",
        "Linguagens que iniciaram a POO\n",
        "- Simula 67 - década de 60\n",
        "- SmallTalk - década de 70\n",
        "- C++ - década de 80\n",
        "\n",
        "##Abstração\n",
        "\n",
        "trazer do mundo real conceitos para dentro dos sistemas.\n",
        "- Entidade (Classe) Cachorro\n",
        "- Características (atributos): peso, cor, altura, raça\n",
        "- Ações (métodos): latir, caminhar, cavar_buraco, farejar, urinar, perseguir...\n",
        "\n",
        "- Cliente\n",
        "- atributos: nome, cpf, endereço, telefone...\n",
        "- ações: comprar, cancelar compra, devolver produto...\n",
        "\n",
        "##Classes\n",
        "Descreve um conjunto de objetos que contém propriedades, comportamentos, relacionamentos e significado em comum. Uma classe é um \"esqueleto\" ou \"forma\" para criar objeto.\n",
        "\n",
        "##Atributos\n",
        "São propriedades, características\n",
        "\n",
        "##Métodos\n",
        "São as ações, comportamento, conjunto de operações que a classe fornece para os objetos.\n",
        "\n",
        "##Identidade\n",
        "Cada objeto é único no sistema"
      ],
      "metadata": {
        "id": "72edwOkCrfwq"
      }
    },
    {
      "cell_type": "code",
      "execution_count": 57,
      "metadata": {
        "colab": {
          "base_uri": "https://localhost:8080/"
        },
        "id": "xVtPHfoGqq6_",
        "outputId": "666f598f-9018-4e8a-e4c7-6d22077f601d"
      },
      "outputs": [
        {
          "output_type": "stream",
          "name": "stdout",
          "text": [
            "Cachorro: Tóto, peso: 10 cor: Caramelo altura:60\n"
          ]
        }
      ],
      "source": [
        "class Cachorro:\n",
        "  \n",
        "  def __init__(self, nome, peso, cor, altura):\n",
        "    self.nome = nome\n",
        "    self.peso = peso\n",
        "    self.cor = cor\n",
        "    self.altura = altura\n",
        "\n",
        "  def __str__(self):\n",
        "    return f\"Cachorro: {self.nome}, peso: {self.peso}\"\\\n",
        "            +f\" cor: {self.cor} altura:{self.altura}\"\n",
        "    #texto = \"Cachorro:\" + self.nome + \" peso:\" + str(self.peso)\\\n",
        "    #      +\" cor:\" + self.cor + \" altura:\" + str(self.altura)\n",
        "    #return texto\n",
        "\n",
        "  def latir():\n",
        "    print(\"Au au\")\n",
        "\n",
        "toto = Cachorro(nome = \"Tóto\", peso = 10, cor = \"Caramelo\", altura = 60)\n",
        "print(toto)"
      ]
    },
    {
      "cell_type": "code",
      "source": [
        ""
      ],
      "metadata": {
        "id": "iyqLCHeZUYF5"
      },
      "execution_count": null,
      "outputs": []
    }
  ]
}